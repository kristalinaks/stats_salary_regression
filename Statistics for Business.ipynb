{
 "cells": [
  {
   "cell_type": "markdown",
   "id": "bc89c10b",
   "metadata": {},
   "source": [
    "# Statistics for Business - Salary Regression Model"
   ]
  },
  {
   "cell_type": "markdown",
   "id": "c9f0bbe3",
   "metadata": {},
   "source": [
    "**Load data**"
   ]
  },
  {
   "cell_type": "code",
   "execution_count": 1,
   "id": "d1f245d8",
   "metadata": {},
   "outputs": [],
   "source": [
    "# load data\n",
    "import pandas as pd\n",
    "import numpy as np\n",
    "\n",
    "# visualization\n",
    "import matplotlib.pyplot as plt\n",
    "import seaborn as sns\n",
    "from matplotlib.gridspec import GridSpec\n",
    "\n",
    "# modelling\n",
    "import statsmodels.formula.api as smf\n",
    "import statsmodels.api as sm\n",
    "\n",
    "# cross validation using statsmodel preparation\n",
    "from sklearn.base import BaseEstimator, RegressorMixin\n",
    "from sklearn.metrics import r2_score\n",
    "\n",
    "from sklearn.model_selection import cross_val_score, cross_validate, KFold"
   ]
  },
  {
   "cell_type": "markdown",
   "id": "1e79556a",
   "metadata": {},
   "source": [
    "**Function**"
   ]
  },
  {
   "cell_type": "code",
   "execution_count": 2,
   "id": "45e45ad7",
   "metadata": {},
   "outputs": [],
   "source": [
    "def print_coef_std_err(results):\n",
    "    \"\"\"\n",
    "    Function to combine estimated coefficients and standard error in one DataFrame\n",
    "    :param results: <statsmodels RegressionResultsWrapper> OLS regression results from statsmodel\n",
    "    :return df: <pandas DataFrame> combined estimated coefficient and standard error of model estimate\n",
    "    \"\"\"\n",
    "    coef = results.params\n",
    "    std_err = results.bse\n",
    "    \n",
    "    df = pd.DataFrame(data = np.transpose([coef, std_err]), \n",
    "                      index = coef.index, \n",
    "                      columns=[\"coef\",\"std err\"])\n",
    "    return df"
   ]
  },
  {
   "cell_type": "markdown",
   "id": "1867a0f7",
   "metadata": {},
   "source": [
    "# 1. Persiapan Data"
   ]
  },
  {
   "cell_type": "markdown",
   "id": "9ae99661",
   "metadata": {},
   "source": [
    "**Membaca data**"
   ]
  },
  {
   "cell_type": "code",
   "execution_count": 3,
   "id": "b4b1e075",
   "metadata": {},
   "outputs": [
    {
     "data": {
      "text/html": [
       "<div>\n",
       "<style scoped>\n",
       "    .dataframe tbody tr th:only-of-type {\n",
       "        vertical-align: middle;\n",
       "    }\n",
       "\n",
       "    .dataframe tbody tr th {\n",
       "        vertical-align: top;\n",
       "    }\n",
       "\n",
       "    .dataframe thead th {\n",
       "        text-align: right;\n",
       "    }\n",
       "</style>\n",
       "<table border=\"1\" class=\"dataframe\">\n",
       "  <thead>\n",
       "    <tr style=\"text-align: right;\">\n",
       "      <th></th>\n",
       "      <th>Age</th>\n",
       "      <th>Gender</th>\n",
       "      <th>EducationLevel</th>\n",
       "      <th>Job Title</th>\n",
       "      <th>YearsOfExperience</th>\n",
       "      <th>Salary</th>\n",
       "    </tr>\n",
       "  </thead>\n",
       "  <tbody>\n",
       "    <tr>\n",
       "      <th>0</th>\n",
       "      <td>32.0</td>\n",
       "      <td>Male</td>\n",
       "      <td>Bachelor's</td>\n",
       "      <td>Software Engineer</td>\n",
       "      <td>5.0</td>\n",
       "      <td>90000.0</td>\n",
       "    </tr>\n",
       "    <tr>\n",
       "      <th>1</th>\n",
       "      <td>28.0</td>\n",
       "      <td>Female</td>\n",
       "      <td>Master's</td>\n",
       "      <td>Data Analyst</td>\n",
       "      <td>3.0</td>\n",
       "      <td>65000.0</td>\n",
       "    </tr>\n",
       "    <tr>\n",
       "      <th>2</th>\n",
       "      <td>45.0</td>\n",
       "      <td>Male</td>\n",
       "      <td>PhD</td>\n",
       "      <td>Senior Manager</td>\n",
       "      <td>15.0</td>\n",
       "      <td>150000.0</td>\n",
       "    </tr>\n",
       "    <tr>\n",
       "      <th>3</th>\n",
       "      <td>36.0</td>\n",
       "      <td>Female</td>\n",
       "      <td>Bachelor's</td>\n",
       "      <td>Sales Associate</td>\n",
       "      <td>7.0</td>\n",
       "      <td>60000.0</td>\n",
       "    </tr>\n",
       "    <tr>\n",
       "      <th>4</th>\n",
       "      <td>52.0</td>\n",
       "      <td>Male</td>\n",
       "      <td>Master's</td>\n",
       "      <td>Director</td>\n",
       "      <td>20.0</td>\n",
       "      <td>200000.0</td>\n",
       "    </tr>\n",
       "    <tr>\n",
       "      <th>...</th>\n",
       "      <td>...</td>\n",
       "      <td>...</td>\n",
       "      <td>...</td>\n",
       "      <td>...</td>\n",
       "      <td>...</td>\n",
       "      <td>...</td>\n",
       "    </tr>\n",
       "    <tr>\n",
       "      <th>370</th>\n",
       "      <td>35.0</td>\n",
       "      <td>Female</td>\n",
       "      <td>Bachelor's</td>\n",
       "      <td>Senior Marketing Analyst</td>\n",
       "      <td>8.0</td>\n",
       "      <td>85000.0</td>\n",
       "    </tr>\n",
       "    <tr>\n",
       "      <th>371</th>\n",
       "      <td>43.0</td>\n",
       "      <td>Male</td>\n",
       "      <td>Master's</td>\n",
       "      <td>Director of Operations</td>\n",
       "      <td>19.0</td>\n",
       "      <td>170000.0</td>\n",
       "    </tr>\n",
       "    <tr>\n",
       "      <th>372</th>\n",
       "      <td>29.0</td>\n",
       "      <td>Female</td>\n",
       "      <td>Bachelor's</td>\n",
       "      <td>Junior Project Manager</td>\n",
       "      <td>2.0</td>\n",
       "      <td>40000.0</td>\n",
       "    </tr>\n",
       "    <tr>\n",
       "      <th>373</th>\n",
       "      <td>34.0</td>\n",
       "      <td>Male</td>\n",
       "      <td>Bachelor's</td>\n",
       "      <td>Senior Operations Coordinator</td>\n",
       "      <td>7.0</td>\n",
       "      <td>90000.0</td>\n",
       "    </tr>\n",
       "    <tr>\n",
       "      <th>374</th>\n",
       "      <td>44.0</td>\n",
       "      <td>Female</td>\n",
       "      <td>PhD</td>\n",
       "      <td>Senior Business Analyst</td>\n",
       "      <td>15.0</td>\n",
       "      <td>150000.0</td>\n",
       "    </tr>\n",
       "  </tbody>\n",
       "</table>\n",
       "<p>375 rows × 6 columns</p>\n",
       "</div>"
      ],
      "text/plain": [
       "      Age  Gender EducationLevel                      Job Title  \\\n",
       "0    32.0    Male     Bachelor's              Software Engineer   \n",
       "1    28.0  Female       Master's                   Data Analyst   \n",
       "2    45.0    Male            PhD                 Senior Manager   \n",
       "3    36.0  Female     Bachelor's                Sales Associate   \n",
       "4    52.0    Male       Master's                       Director   \n",
       "..    ...     ...            ...                            ...   \n",
       "370  35.0  Female     Bachelor's       Senior Marketing Analyst   \n",
       "371  43.0    Male       Master's         Director of Operations   \n",
       "372  29.0  Female     Bachelor's         Junior Project Manager   \n",
       "373  34.0    Male     Bachelor's  Senior Operations Coordinator   \n",
       "374  44.0  Female            PhD        Senior Business Analyst   \n",
       "\n",
       "     YearsOfExperience    Salary  \n",
       "0                  5.0   90000.0  \n",
       "1                  3.0   65000.0  \n",
       "2                 15.0  150000.0  \n",
       "3                  7.0   60000.0  \n",
       "4                 20.0  200000.0  \n",
       "..                 ...       ...  \n",
       "370                8.0   85000.0  \n",
       "371               19.0  170000.0  \n",
       "372                2.0   40000.0  \n",
       "373                7.0   90000.0  \n",
       "374               15.0  150000.0  \n",
       "\n",
       "[375 rows x 6 columns]"
      ]
     },
     "execution_count": 3,
     "metadata": {},
     "output_type": "execute_result"
    }
   ],
   "source": [
    "df_salary = pd.read_csv(\"salary_data.csv\")\n",
    "df_salary.rename(columns = {'Education Level':'EducationLevel', 'Years of Experience':'YearsOfExperience'}, inplace=True)\n",
    "df_salary"
   ]
  },
  {
   "cell_type": "markdown",
   "id": "05f27839",
   "metadata": {},
   "source": [
    "## 1.1. Handling Missing Value"
   ]
  },
  {
   "cell_type": "markdown",
   "id": "ee1fbc52",
   "metadata": {},
   "source": [
    "**Mengecek missing value**"
   ]
  },
  {
   "cell_type": "code",
   "execution_count": 4,
   "id": "dd974f67",
   "metadata": {
    "scrolled": false
   },
   "outputs": [
    {
     "data": {
      "text/plain": [
       "Age                  2\n",
       "Gender               2\n",
       "EducationLevel       2\n",
       "Job Title            2\n",
       "YearsOfExperience    2\n",
       "Salary               2\n",
       "dtype: int64"
      ]
     },
     "execution_count": 4,
     "metadata": {},
     "output_type": "execute_result"
    }
   ],
   "source": [
    "df_salary.isna().sum()"
   ]
  },
  {
   "cell_type": "code",
   "execution_count": 5,
   "id": "c70749f3",
   "metadata": {},
   "outputs": [
    {
     "data": {
      "text/plain": [
       "(375, 6)"
      ]
     },
     "execution_count": 5,
     "metadata": {},
     "output_type": "execute_result"
    }
   ],
   "source": [
    "df_salary.shape"
   ]
  },
  {
   "cell_type": "code",
   "execution_count": 6,
   "id": "0618f411",
   "metadata": {
    "scrolled": false
   },
   "outputs": [
    {
     "data": {
      "text/html": [
       "<div>\n",
       "<style scoped>\n",
       "    .dataframe tbody tr th:only-of-type {\n",
       "        vertical-align: middle;\n",
       "    }\n",
       "\n",
       "    .dataframe tbody tr th {\n",
       "        vertical-align: top;\n",
       "    }\n",
       "\n",
       "    .dataframe thead th {\n",
       "        text-align: right;\n",
       "    }\n",
       "</style>\n",
       "<table border=\"1\" class=\"dataframe\">\n",
       "  <thead>\n",
       "    <tr style=\"text-align: right;\">\n",
       "      <th></th>\n",
       "      <th>Age</th>\n",
       "      <th>Gender</th>\n",
       "      <th>EducationLevel</th>\n",
       "      <th>Job Title</th>\n",
       "      <th>YearsOfExperience</th>\n",
       "      <th>Salary</th>\n",
       "    </tr>\n",
       "  </thead>\n",
       "  <tbody>\n",
       "    <tr>\n",
       "      <th>172</th>\n",
       "      <td>NaN</td>\n",
       "      <td>NaN</td>\n",
       "      <td>NaN</td>\n",
       "      <td>NaN</td>\n",
       "      <td>NaN</td>\n",
       "      <td>NaN</td>\n",
       "    </tr>\n",
       "    <tr>\n",
       "      <th>260</th>\n",
       "      <td>NaN</td>\n",
       "      <td>NaN</td>\n",
       "      <td>NaN</td>\n",
       "      <td>NaN</td>\n",
       "      <td>NaN</td>\n",
       "      <td>NaN</td>\n",
       "    </tr>\n",
       "  </tbody>\n",
       "</table>\n",
       "</div>"
      ],
      "text/plain": [
       "     Age Gender EducationLevel Job Title  YearsOfExperience  Salary\n",
       "172  NaN    NaN            NaN       NaN                NaN     NaN\n",
       "260  NaN    NaN            NaN       NaN                NaN     NaN"
      ]
     },
     "execution_count": 6,
     "metadata": {},
     "output_type": "execute_result"
    }
   ],
   "source": [
    "df_salary[df_salary[\"Age\"].isna()]"
   ]
  },
  {
   "cell_type": "markdown",
   "id": "f94d3081",
   "metadata": {},
   "source": [
    "**Menghapus missing value**"
   ]
  },
  {
   "cell_type": "code",
   "execution_count": 7,
   "id": "f5d5e194",
   "metadata": {
    "scrolled": true
   },
   "outputs": [],
   "source": [
    "df_salary = df_salary.dropna()"
   ]
  },
  {
   "cell_type": "code",
   "execution_count": 8,
   "id": "4ba2735c",
   "metadata": {
    "scrolled": true
   },
   "outputs": [
    {
     "data": {
      "text/plain": [
       "Age                  0\n",
       "Gender               0\n",
       "EducationLevel       0\n",
       "Job Title            0\n",
       "YearsOfExperience    0\n",
       "Salary               0\n",
       "dtype: int64"
      ]
     },
     "execution_count": 8,
     "metadata": {},
     "output_type": "execute_result"
    }
   ],
   "source": [
    "df_salary.isna().sum()"
   ]
  },
  {
   "cell_type": "code",
   "execution_count": 9,
   "id": "32d0a137",
   "metadata": {},
   "outputs": [
    {
     "data": {
      "text/plain": [
       "(373, 6)"
      ]
     },
     "execution_count": 9,
     "metadata": {},
     "output_type": "execute_result"
    }
   ],
   "source": [
    "df_salary.shape"
   ]
  },
  {
   "cell_type": "markdown",
   "id": "9d0ca036",
   "metadata": {},
   "source": [
    "## 1.2. Handling Duplicated Data"
   ]
  },
  {
   "cell_type": "markdown",
   "id": "78e90009",
   "metadata": {},
   "source": [
    "**Mengecek duplicated data**"
   ]
  },
  {
   "cell_type": "code",
   "execution_count": 10,
   "id": "0e2f04de",
   "metadata": {
    "scrolled": true
   },
   "outputs": [
    {
     "data": {
      "text/plain": [
       "49"
      ]
     },
     "execution_count": 10,
     "metadata": {},
     "output_type": "execute_result"
    }
   ],
   "source": [
    "df_salary.duplicated().sum()"
   ]
  },
  {
   "cell_type": "code",
   "execution_count": 11,
   "id": "59d0eb13",
   "metadata": {
    "scrolled": true
   },
   "outputs": [
    {
     "data": {
      "text/html": [
       "<div>\n",
       "<style scoped>\n",
       "    .dataframe tbody tr th:only-of-type {\n",
       "        vertical-align: middle;\n",
       "    }\n",
       "\n",
       "    .dataframe tbody tr th {\n",
       "        vertical-align: top;\n",
       "    }\n",
       "\n",
       "    .dataframe thead th {\n",
       "        text-align: right;\n",
       "    }\n",
       "</style>\n",
       "<table border=\"1\" class=\"dataframe\">\n",
       "  <thead>\n",
       "    <tr style=\"text-align: right;\">\n",
       "      <th></th>\n",
       "      <th>Age</th>\n",
       "      <th>Gender</th>\n",
       "      <th>EducationLevel</th>\n",
       "      <th>Job Title</th>\n",
       "      <th>YearsOfExperience</th>\n",
       "      <th>Salary</th>\n",
       "    </tr>\n",
       "  </thead>\n",
       "  <tbody>\n",
       "    <tr>\n",
       "      <th>140</th>\n",
       "      <td>28.0</td>\n",
       "      <td>Male</td>\n",
       "      <td>Bachelor's</td>\n",
       "      <td>Junior Business Analyst</td>\n",
       "      <td>2.0</td>\n",
       "      <td>40000.0</td>\n",
       "    </tr>\n",
       "    <tr>\n",
       "      <th>195</th>\n",
       "      <td>28.0</td>\n",
       "      <td>Male</td>\n",
       "      <td>Bachelor's</td>\n",
       "      <td>Junior Business Analyst</td>\n",
       "      <td>2.0</td>\n",
       "      <td>40000.0</td>\n",
       "    </tr>\n",
       "    <tr>\n",
       "      <th>209</th>\n",
       "      <td>30.0</td>\n",
       "      <td>Female</td>\n",
       "      <td>Bachelor's</td>\n",
       "      <td>Junior Marketing Coordinator</td>\n",
       "      <td>2.0</td>\n",
       "      <td>40000.0</td>\n",
       "    </tr>\n",
       "    <tr>\n",
       "      <th>210</th>\n",
       "      <td>38.0</td>\n",
       "      <td>Male</td>\n",
       "      <td>Master's</td>\n",
       "      <td>Senior IT Consultant</td>\n",
       "      <td>9.0</td>\n",
       "      <td>110000.0</td>\n",
       "    </tr>\n",
       "    <tr>\n",
       "      <th>211</th>\n",
       "      <td>45.0</td>\n",
       "      <td>Female</td>\n",
       "      <td>PhD</td>\n",
       "      <td>Senior Product Designer</td>\n",
       "      <td>15.0</td>\n",
       "      <td>150000.0</td>\n",
       "    </tr>\n",
       "    <tr>\n",
       "      <th>...</th>\n",
       "      <td>...</td>\n",
       "      <td>...</td>\n",
       "      <td>...</td>\n",
       "      <td>...</td>\n",
       "      <td>...</td>\n",
       "      <td>...</td>\n",
       "    </tr>\n",
       "    <tr>\n",
       "      <th>369</th>\n",
       "      <td>33.0</td>\n",
       "      <td>Male</td>\n",
       "      <td>Bachelor's</td>\n",
       "      <td>Junior Business Analyst</td>\n",
       "      <td>4.0</td>\n",
       "      <td>60000.0</td>\n",
       "    </tr>\n",
       "    <tr>\n",
       "      <th>370</th>\n",
       "      <td>35.0</td>\n",
       "      <td>Female</td>\n",
       "      <td>Bachelor's</td>\n",
       "      <td>Senior Marketing Analyst</td>\n",
       "      <td>8.0</td>\n",
       "      <td>85000.0</td>\n",
       "    </tr>\n",
       "    <tr>\n",
       "      <th>372</th>\n",
       "      <td>29.0</td>\n",
       "      <td>Female</td>\n",
       "      <td>Bachelor's</td>\n",
       "      <td>Junior Project Manager</td>\n",
       "      <td>2.0</td>\n",
       "      <td>40000.0</td>\n",
       "    </tr>\n",
       "    <tr>\n",
       "      <th>373</th>\n",
       "      <td>34.0</td>\n",
       "      <td>Male</td>\n",
       "      <td>Bachelor's</td>\n",
       "      <td>Senior Operations Coordinator</td>\n",
       "      <td>7.0</td>\n",
       "      <td>90000.0</td>\n",
       "    </tr>\n",
       "    <tr>\n",
       "      <th>374</th>\n",
       "      <td>44.0</td>\n",
       "      <td>Female</td>\n",
       "      <td>PhD</td>\n",
       "      <td>Senior Business Analyst</td>\n",
       "      <td>15.0</td>\n",
       "      <td>150000.0</td>\n",
       "    </tr>\n",
       "  </tbody>\n",
       "</table>\n",
       "<p>88 rows × 6 columns</p>\n",
       "</div>"
      ],
      "text/plain": [
       "      Age  Gender EducationLevel                      Job Title  \\\n",
       "140  28.0    Male     Bachelor's        Junior Business Analyst   \n",
       "195  28.0    Male     Bachelor's        Junior Business Analyst   \n",
       "209  30.0  Female     Bachelor's   Junior Marketing Coordinator   \n",
       "210  38.0    Male       Master's           Senior IT Consultant   \n",
       "211  45.0  Female            PhD        Senior Product Designer   \n",
       "..    ...     ...            ...                            ...   \n",
       "369  33.0    Male     Bachelor's        Junior Business Analyst   \n",
       "370  35.0  Female     Bachelor's       Senior Marketing Analyst   \n",
       "372  29.0  Female     Bachelor's         Junior Project Manager   \n",
       "373  34.0    Male     Bachelor's  Senior Operations Coordinator   \n",
       "374  44.0  Female            PhD        Senior Business Analyst   \n",
       "\n",
       "     YearsOfExperience    Salary  \n",
       "140                2.0   40000.0  \n",
       "195                2.0   40000.0  \n",
       "209                2.0   40000.0  \n",
       "210                9.0  110000.0  \n",
       "211               15.0  150000.0  \n",
       "..                 ...       ...  \n",
       "369                4.0   60000.0  \n",
       "370                8.0   85000.0  \n",
       "372                2.0   40000.0  \n",
       "373                7.0   90000.0  \n",
       "374               15.0  150000.0  \n",
       "\n",
       "[88 rows x 6 columns]"
      ]
     },
     "execution_count": 11,
     "metadata": {},
     "output_type": "execute_result"
    }
   ],
   "source": [
    "df_salary[df_salary.duplicated(keep=False)]"
   ]
  },
  {
   "cell_type": "markdown",
   "id": "73573795",
   "metadata": {},
   "source": [
    "**Menghapus duplicated data**"
   ]
  },
  {
   "cell_type": "code",
   "execution_count": 12,
   "id": "46392bc4",
   "metadata": {},
   "outputs": [
    {
     "data": {
      "text/plain": [
       "0"
      ]
     },
     "execution_count": 12,
     "metadata": {},
     "output_type": "execute_result"
    }
   ],
   "source": [
    "df_salary = df_salary.drop_duplicates(keep=\"first\")\n",
    "df_salary.duplicated().sum()"
   ]
  },
  {
   "cell_type": "code",
   "execution_count": 13,
   "id": "e1621529",
   "metadata": {},
   "outputs": [
    {
     "data": {
      "text/html": [
       "<div>\n",
       "<style scoped>\n",
       "    .dataframe tbody tr th:only-of-type {\n",
       "        vertical-align: middle;\n",
       "    }\n",
       "\n",
       "    .dataframe tbody tr th {\n",
       "        vertical-align: top;\n",
       "    }\n",
       "\n",
       "    .dataframe thead th {\n",
       "        text-align: right;\n",
       "    }\n",
       "</style>\n",
       "<table border=\"1\" class=\"dataframe\">\n",
       "  <thead>\n",
       "    <tr style=\"text-align: right;\">\n",
       "      <th></th>\n",
       "      <th>Age</th>\n",
       "      <th>Gender</th>\n",
       "      <th>EducationLevel</th>\n",
       "      <th>Job Title</th>\n",
       "      <th>YearsOfExperience</th>\n",
       "      <th>Salary</th>\n",
       "    </tr>\n",
       "  </thead>\n",
       "  <tbody>\n",
       "    <tr>\n",
       "      <th>0</th>\n",
       "      <td>32.0</td>\n",
       "      <td>Male</td>\n",
       "      <td>Bachelor's</td>\n",
       "      <td>Software Engineer</td>\n",
       "      <td>5.0</td>\n",
       "      <td>90000.0</td>\n",
       "    </tr>\n",
       "    <tr>\n",
       "      <th>1</th>\n",
       "      <td>28.0</td>\n",
       "      <td>Female</td>\n",
       "      <td>Master's</td>\n",
       "      <td>Data Analyst</td>\n",
       "      <td>3.0</td>\n",
       "      <td>65000.0</td>\n",
       "    </tr>\n",
       "    <tr>\n",
       "      <th>2</th>\n",
       "      <td>45.0</td>\n",
       "      <td>Male</td>\n",
       "      <td>PhD</td>\n",
       "      <td>Senior Manager</td>\n",
       "      <td>15.0</td>\n",
       "      <td>150000.0</td>\n",
       "    </tr>\n",
       "    <tr>\n",
       "      <th>3</th>\n",
       "      <td>36.0</td>\n",
       "      <td>Female</td>\n",
       "      <td>Bachelor's</td>\n",
       "      <td>Sales Associate</td>\n",
       "      <td>7.0</td>\n",
       "      <td>60000.0</td>\n",
       "    </tr>\n",
       "    <tr>\n",
       "      <th>4</th>\n",
       "      <td>52.0</td>\n",
       "      <td>Male</td>\n",
       "      <td>Master's</td>\n",
       "      <td>Director</td>\n",
       "      <td>20.0</td>\n",
       "      <td>200000.0</td>\n",
       "    </tr>\n",
       "    <tr>\n",
       "      <th>...</th>\n",
       "      <td>...</td>\n",
       "      <td>...</td>\n",
       "      <td>...</td>\n",
       "      <td>...</td>\n",
       "      <td>...</td>\n",
       "      <td>...</td>\n",
       "    </tr>\n",
       "    <tr>\n",
       "      <th>348</th>\n",
       "      <td>28.0</td>\n",
       "      <td>Female</td>\n",
       "      <td>Bachelor's</td>\n",
       "      <td>Junior Operations Manager</td>\n",
       "      <td>1.0</td>\n",
       "      <td>35000.0</td>\n",
       "    </tr>\n",
       "    <tr>\n",
       "      <th>349</th>\n",
       "      <td>36.0</td>\n",
       "      <td>Male</td>\n",
       "      <td>Bachelor's</td>\n",
       "      <td>Senior Business Development Manager</td>\n",
       "      <td>8.0</td>\n",
       "      <td>110000.0</td>\n",
       "    </tr>\n",
       "    <tr>\n",
       "      <th>350</th>\n",
       "      <td>44.0</td>\n",
       "      <td>Female</td>\n",
       "      <td>PhD</td>\n",
       "      <td>Senior Data Scientist</td>\n",
       "      <td>16.0</td>\n",
       "      <td>160000.0</td>\n",
       "    </tr>\n",
       "    <tr>\n",
       "      <th>351</th>\n",
       "      <td>31.0</td>\n",
       "      <td>Male</td>\n",
       "      <td>Bachelor's</td>\n",
       "      <td>Junior Marketing Coordinator</td>\n",
       "      <td>3.0</td>\n",
       "      <td>55000.0</td>\n",
       "    </tr>\n",
       "    <tr>\n",
       "      <th>371</th>\n",
       "      <td>43.0</td>\n",
       "      <td>Male</td>\n",
       "      <td>Master's</td>\n",
       "      <td>Director of Operations</td>\n",
       "      <td>19.0</td>\n",
       "      <td>170000.0</td>\n",
       "    </tr>\n",
       "  </tbody>\n",
       "</table>\n",
       "<p>324 rows × 6 columns</p>\n",
       "</div>"
      ],
      "text/plain": [
       "      Age  Gender EducationLevel                            Job Title  \\\n",
       "0    32.0    Male     Bachelor's                    Software Engineer   \n",
       "1    28.0  Female       Master's                         Data Analyst   \n",
       "2    45.0    Male            PhD                       Senior Manager   \n",
       "3    36.0  Female     Bachelor's                      Sales Associate   \n",
       "4    52.0    Male       Master's                             Director   \n",
       "..    ...     ...            ...                                  ...   \n",
       "348  28.0  Female     Bachelor's            Junior Operations Manager   \n",
       "349  36.0    Male     Bachelor's  Senior Business Development Manager   \n",
       "350  44.0  Female            PhD                Senior Data Scientist   \n",
       "351  31.0    Male     Bachelor's         Junior Marketing Coordinator   \n",
       "371  43.0    Male       Master's               Director of Operations   \n",
       "\n",
       "     YearsOfExperience    Salary  \n",
       "0                  5.0   90000.0  \n",
       "1                  3.0   65000.0  \n",
       "2                 15.0  150000.0  \n",
       "3                  7.0   60000.0  \n",
       "4                 20.0  200000.0  \n",
       "..                 ...       ...  \n",
       "348                1.0   35000.0  \n",
       "349                8.0  110000.0  \n",
       "350               16.0  160000.0  \n",
       "351                3.0   55000.0  \n",
       "371               19.0  170000.0  \n",
       "\n",
       "[324 rows x 6 columns]"
      ]
     },
     "execution_count": 13,
     "metadata": {},
     "output_type": "execute_result"
    }
   ],
   "source": [
    "df_salary"
   ]
  },
  {
   "cell_type": "markdown",
   "id": "4a0b5b5e",
   "metadata": {},
   "source": [
    "# 2. Deskripsi Data"
   ]
  },
  {
   "cell_type": "code",
   "execution_count": 14,
   "id": "bb3a0a2a",
   "metadata": {
    "scrolled": true
   },
   "outputs": [
    {
     "data": {
      "text/html": [
       "<div>\n",
       "<style scoped>\n",
       "    .dataframe tbody tr th:only-of-type {\n",
       "        vertical-align: middle;\n",
       "    }\n",
       "\n",
       "    .dataframe tbody tr th {\n",
       "        vertical-align: top;\n",
       "    }\n",
       "\n",
       "    .dataframe thead th {\n",
       "        text-align: right;\n",
       "    }\n",
       "</style>\n",
       "<table border=\"1\" class=\"dataframe\">\n",
       "  <thead>\n",
       "    <tr style=\"text-align: right;\">\n",
       "      <th></th>\n",
       "      <th>count</th>\n",
       "      <th>mean</th>\n",
       "      <th>std</th>\n",
       "      <th>min</th>\n",
       "      <th>25%</th>\n",
       "      <th>50%</th>\n",
       "      <th>75%</th>\n",
       "      <th>max</th>\n",
       "    </tr>\n",
       "  </thead>\n",
       "  <tbody>\n",
       "    <tr>\n",
       "      <th>Age</th>\n",
       "      <td>324.0</td>\n",
       "      <td>37.382716</td>\n",
       "      <td>7.185844</td>\n",
       "      <td>23.0</td>\n",
       "      <td>31.0</td>\n",
       "      <td>36.5</td>\n",
       "      <td>44.0</td>\n",
       "      <td>53.0</td>\n",
       "    </tr>\n",
       "    <tr>\n",
       "      <th>YearsOfExperience</th>\n",
       "      <td>324.0</td>\n",
       "      <td>10.058642</td>\n",
       "      <td>6.650470</td>\n",
       "      <td>0.0</td>\n",
       "      <td>4.0</td>\n",
       "      <td>9.0</td>\n",
       "      <td>16.0</td>\n",
       "      <td>25.0</td>\n",
       "    </tr>\n",
       "    <tr>\n",
       "      <th>Salary</th>\n",
       "      <td>324.0</td>\n",
       "      <td>99985.648148</td>\n",
       "      <td>48652.271440</td>\n",
       "      <td>350.0</td>\n",
       "      <td>55000.0</td>\n",
       "      <td>95000.0</td>\n",
       "      <td>140000.0</td>\n",
       "      <td>250000.0</td>\n",
       "    </tr>\n",
       "  </tbody>\n",
       "</table>\n",
       "</div>"
      ],
      "text/plain": [
       "                   count          mean           std    min      25%      50%  \\\n",
       "Age                324.0     37.382716      7.185844   23.0     31.0     36.5   \n",
       "YearsOfExperience  324.0     10.058642      6.650470    0.0      4.0      9.0   \n",
       "Salary             324.0  99985.648148  48652.271440  350.0  55000.0  95000.0   \n",
       "\n",
       "                        75%       max  \n",
       "Age                    44.0      53.0  \n",
       "YearsOfExperience      16.0      25.0  \n",
       "Salary             140000.0  250000.0  "
      ]
     },
     "execution_count": 14,
     "metadata": {},
     "output_type": "execute_result"
    }
   ],
   "source": [
    "df_salary.describe().transpose()"
   ]
  },
  {
   "cell_type": "code",
   "execution_count": 15,
   "id": "d8a1ce6f",
   "metadata": {},
   "outputs": [
    {
     "data": {
      "text/plain": [
       "Male      170\n",
       "Female    154\n",
       "Name: Gender, dtype: int64"
      ]
     },
     "execution_count": 15,
     "metadata": {},
     "output_type": "execute_result"
    }
   ],
   "source": [
    "df_salary[\"Gender\"].value_counts()"
   ]
  },
  {
   "cell_type": "code",
   "execution_count": 16,
   "id": "b768f973",
   "metadata": {},
   "outputs": [
    {
     "data": {
      "text/plain": [
       "Bachelor's    191\n",
       "Master's       91\n",
       "PhD            42\n",
       "Name: EducationLevel, dtype: int64"
      ]
     },
     "execution_count": 16,
     "metadata": {},
     "output_type": "execute_result"
    }
   ],
   "source": [
    "df_salary[\"EducationLevel\"].value_counts()"
   ]
  },
  {
   "cell_type": "code",
   "execution_count": 17,
   "id": "5d84c28a",
   "metadata": {
    "scrolled": false
   },
   "outputs": [
    {
     "name": "stdout",
     "output_type": "stream",
     "text": [
      "<class 'pandas.core.frame.DataFrame'>\n",
      "Int64Index: 324 entries, 0 to 371\n",
      "Data columns (total 6 columns):\n",
      " #   Column             Non-Null Count  Dtype  \n",
      "---  ------             --------------  -----  \n",
      " 0   Age                324 non-null    float64\n",
      " 1   Gender             324 non-null    object \n",
      " 2   EducationLevel     324 non-null    object \n",
      " 3   Job Title          324 non-null    object \n",
      " 4   YearsOfExperience  324 non-null    float64\n",
      " 5   Salary             324 non-null    float64\n",
      "dtypes: float64(3), object(3)\n",
      "memory usage: 17.7+ KB\n"
     ]
    }
   ],
   "source": [
    "df_salary.info()"
   ]
  },
  {
   "cell_type": "markdown",
   "id": "be88f584",
   "metadata": {},
   "source": [
    "## 2.1. Correlation in Numerical Variables"
   ]
  },
  {
   "cell_type": "code",
   "execution_count": 18,
   "id": "0aecdac0",
   "metadata": {},
   "outputs": [
    {
     "data": {
      "text/html": [
       "<div>\n",
       "<style scoped>\n",
       "    .dataframe tbody tr th:only-of-type {\n",
       "        vertical-align: middle;\n",
       "    }\n",
       "\n",
       "    .dataframe tbody tr th {\n",
       "        vertical-align: top;\n",
       "    }\n",
       "\n",
       "    .dataframe thead th {\n",
       "        text-align: right;\n",
       "    }\n",
       "</style>\n",
       "<table border=\"1\" class=\"dataframe\">\n",
       "  <thead>\n",
       "    <tr style=\"text-align: right;\">\n",
       "      <th></th>\n",
       "      <th>Age</th>\n",
       "      <th>YearsOfExperience</th>\n",
       "      <th>Salary</th>\n",
       "    </tr>\n",
       "  </thead>\n",
       "  <tbody>\n",
       "    <tr>\n",
       "      <th>Age</th>\n",
       "      <td>1.000000</td>\n",
       "      <td>0.979192</td>\n",
       "      <td>0.916543</td>\n",
       "    </tr>\n",
       "    <tr>\n",
       "      <th>YearsOfExperience</th>\n",
       "      <td>0.979192</td>\n",
       "      <td>1.000000</td>\n",
       "      <td>0.924455</td>\n",
       "    </tr>\n",
       "    <tr>\n",
       "      <th>Salary</th>\n",
       "      <td>0.916543</td>\n",
       "      <td>0.924455</td>\n",
       "      <td>1.000000</td>\n",
       "    </tr>\n",
       "  </tbody>\n",
       "</table>\n",
       "</div>"
      ],
      "text/plain": [
       "                        Age  YearsOfExperience    Salary\n",
       "Age                1.000000           0.979192  0.916543\n",
       "YearsOfExperience  0.979192           1.000000  0.924455\n",
       "Salary             0.916543           0.924455  1.000000"
      ]
     },
     "execution_count": 18,
     "metadata": {},
     "output_type": "execute_result"
    }
   ],
   "source": [
    "df_salary[[\"Age\",\"YearsOfExperience\", \"Salary\"]].corr()"
   ]
  },
  {
   "cell_type": "markdown",
   "id": "3c19386d",
   "metadata": {},
   "source": [
    "Korelasi antara usia, lama pengalaman kerja, dan gaji memiliki hasil positif dan berkorelasi kuat."
   ]
  },
  {
   "cell_type": "markdown",
   "id": "5b08d764",
   "metadata": {},
   "source": [
    "## 2.2. Average salary in each categorical variables"
   ]
  },
  {
   "cell_type": "markdown",
   "id": "487fa632",
   "metadata": {},
   "source": [
    "**Perbandingan salary antar gender.**"
   ]
  },
  {
   "cell_type": "code",
   "execution_count": 19,
   "id": "e63286ff",
   "metadata": {
    "scrolled": true
   },
   "outputs": [
    {
     "data": {
      "text/plain": [
       "Gender\n",
       "Female     96136.363636\n",
       "Male      103472.647059\n",
       "Name: Salary, dtype: float64"
      ]
     },
     "execution_count": 19,
     "metadata": {},
     "output_type": "execute_result"
    }
   ],
   "source": [
    "df_salary.groupby(\"Gender\")[\"Salary\"].mean()"
   ]
  },
  {
   "cell_type": "markdown",
   "id": "475eb3ca",
   "metadata": {},
   "source": [
    "Rata-rata gaji laki-laki lebih besar dari rata-rata gaji perempuan."
   ]
  },
  {
   "cell_type": "markdown",
   "id": "c7c1c293",
   "metadata": {},
   "source": [
    "**Perbandingan salary antar education level.**"
   ]
  },
  {
   "cell_type": "code",
   "execution_count": 20,
   "id": "f873fa5d",
   "metadata": {
    "scrolled": true
   },
   "outputs": [
    {
     "data": {
      "text/plain": [
       "EducationLevel\n",
       "Bachelor's     73902.356021\n",
       "Master's      127912.087912\n",
       "PhD           158095.238095\n",
       "Name: Salary, dtype: float64"
      ]
     },
     "execution_count": 20,
     "metadata": {},
     "output_type": "execute_result"
    }
   ],
   "source": [
    "df_salary.groupby(\"EducationLevel\")[\"Salary\"].mean()"
   ]
  },
  {
   "cell_type": "markdown",
   "id": "501d342e",
   "metadata": {},
   "source": [
    "Rata-rata gaji semakin besar seiring dengan level pendidikan yang lebih tinggi."
   ]
  },
  {
   "cell_type": "markdown",
   "id": "66f8289f",
   "metadata": {},
   "source": [
    "## 2.3. Numerical Variables with Each Categorical Variable"
   ]
  },
  {
   "cell_type": "code",
   "execution_count": 21,
   "id": "3fc6227b",
   "metadata": {},
   "outputs": [
    {
     "data": {
      "text/plain": [
       "<seaborn.axisgrid.PairGrid at 0x1dc1967c1f0>"
      ]
     },
     "execution_count": 21,
     "metadata": {},
     "output_type": "execute_result"
    },
    {
     "data": {
      "image/png": "[encoded data removed]",
      "text/plain": [
       "<Figure size 504.125x432 with 12 Axes>"
      ]
     },
     "metadata": {
      "needs_background": "light"
     },
     "output_type": "display_data"
    }
   ],
   "source": [
    "sns.pairplot(data = df_salary, hue = \"Gender\", height=2)"
   ]
  },
  {
   "cell_type": "markdown",
   "id": "512cca15",
   "metadata": {},
   "source": [
    "- Semakin lama pengalaman kerja seseorang, semakin tinggi gajinya.\n",
    "- Semakin tua usia seseorang, semakin lama pula pengalaman kerja yang dimiliki.\n",
    "- Jenis kelamin tidak terlalu berdampak signifikan pada gaji."
   ]
  },
  {
   "cell_type": "code",
   "execution_count": 22,
   "id": "2182ffef",
   "metadata": {
    "scrolled": false
   },
   "outputs": [
    {
     "data": {
      "text/plain": [
       "<seaborn.axisgrid.PairGrid at 0x1dc1b1f8d60>"
      ]
     },
     "execution_count": 22,
     "metadata": {},
     "output_type": "execute_result"
    },
    {
     "data": {
      "image/png": "[encoded data removed]",
      "text/plain": [
       "<Figure size 520.125x432 with 12 Axes>"
      ]
     },
     "metadata": {
      "needs_background": "light"
     },
     "output_type": "display_data"
    }
   ],
   "source": [
    "sns.pairplot(data = df_salary, hue = \"EducationLevel\", height=2, palette=\"tab10\")"
   ]
  },
  {
   "cell_type": "markdown",
   "id": "09edae75",
   "metadata": {},
   "source": [
    "- Semakin tinggi tingkat pendidikan seseorang, semakin tinggi gajinya.\n",
    "- Tingkat pendidikan yang tinggi cenderung dimiliki seseorang dengan usia yang lebih tua.\n",
    "- Tingkat pendidikan yang tinggi cenderung dimiliki oleh seseorang dengan lama pengalaman kerja yang tinggi pula."
   ]
  },
  {
   "cell_type": "markdown",
   "id": "668019a5",
   "metadata": {},
   "source": [
    "# 3. Uji Statistik"
   ]
  },
  {
   "cell_type": "markdown",
   "id": "ac4beca7",
   "metadata": {},
   "source": [
    "$H_0$: Rata-rata gaji laki-laki sama dengan dari rata-rata gaji perempuan.\n",
    "$$ H_0:\\mu_A = \\mu_B $$\n",
    "\n",
    "$H_1$: Rata-rata gaji laki-laki lebih besar dari rata-rata gaji perempuan.\n",
    "$$ H_1:\\mu_A > \\mu_B $$"
   ]
  },
  {
   "cell_type": "code",
   "execution_count": 23,
   "id": "077e98c6",
   "metadata": {},
   "outputs": [],
   "source": [
    "significance_level = 0.10"
   ]
  },
  {
   "cell_type": "markdown",
   "id": "ed0f0732",
   "metadata": {},
   "source": [
    "## 3.1. Preanalysis"
   ]
  },
  {
   "cell_type": "code",
   "execution_count": 24,
   "id": "698e34ad",
   "metadata": {
    "scrolled": false
   },
   "outputs": [
    {
     "data": {
      "text/plain": [
       "Gender\n",
       "Female     96136.363636\n",
       "Male      103472.647059\n",
       "Name: Salary, dtype: float64"
      ]
     },
     "execution_count": 24,
     "metadata": {},
     "output_type": "execute_result"
    }
   ],
   "source": [
    "# Menghitung jumlah data laki-laki dan perempuan\n",
    "df_salary.groupby(\"Gender\")[\"Salary\"].mean()"
   ]
  },
  {
   "cell_type": "markdown",
   "id": "a42e1500",
   "metadata": {},
   "source": [
    "Rata-rata gaji laki-laki lebih besar dari rata-rata gaji perempuan."
   ]
  },
  {
   "cell_type": "markdown",
   "id": "b5267bc3",
   "metadata": {},
   "source": [
    "## 3.2. Analysis"
   ]
  },
  {
   "cell_type": "markdown",
   "id": "211f9201",
   "metadata": {},
   "source": [
    "Karena standar deviasi populasi tidak diketahui, digunakan t-test.\n",
    "Sebelum menggunakan t-test, dilakukan uji variansi."
   ]
  },
  {
   "cell_type": "code",
   "execution_count": 25,
   "id": "98c0dc60",
   "metadata": {
    "scrolled": false
   },
   "outputs": [
    {
     "data": {
      "text/plain": [
       "(2571353207.6989617, 2097896989.374262)"
      ]
     },
     "execution_count": 25,
     "metadata": {},
     "output_type": "execute_result"
    }
   ],
   "source": [
    "# Gaji Laki-laki\n",
    "df_male = df_salary[df_salary[\"Gender\"]==\"Male\"][\"Salary\"].values\n",
    "\n",
    "# Gaji Perempuan\n",
    "df_female = df_salary[df_salary[\"Gender\"]==\"Female\"][\"Salary\"].values\n",
    "\n",
    "# Variansi\n",
    "np.var(df_male), np.var(df_female)"
   ]
  },
  {
   "cell_type": "markdown",
   "id": "f350fbad",
   "metadata": {},
   "source": [
    "Dapat disimpulkan bahwa variansi tidak sama."
   ]
  },
  {
   "cell_type": "code",
   "execution_count": 26,
   "id": "fcb1f21c",
   "metadata": {
    "scrolled": true
   },
   "outputs": [],
   "source": [
    "from scipy import stats\n",
    "result = stats.ttest_ind(a = df_male, \n",
    "                         b = df_female, \n",
    "                         equal_var=False, \n",
    "                         alternative = \"greater\")"
   ]
  },
  {
   "cell_type": "code",
   "execution_count": 27,
   "id": "f9e59beb",
   "metadata": {},
   "outputs": [
    {
     "data": {
      "text/plain": [
       "0.08675461782037655"
      ]
     },
     "execution_count": 27,
     "metadata": {},
     "output_type": "execute_result"
    }
   ],
   "source": [
    "result.pvalue"
   ]
  },
  {
   "cell_type": "code",
   "execution_count": 28,
   "id": "8e9801c2",
   "metadata": {
    "scrolled": true
   },
   "outputs": [
    {
     "data": {
      "text/plain": [
       "1.364034982496829"
      ]
     },
     "execution_count": 28,
     "metadata": {},
     "output_type": "execute_result"
    }
   ],
   "source": [
    "result.statistic"
   ]
  },
  {
   "cell_type": "code",
   "execution_count": 29,
   "id": "d7abe1b4",
   "metadata": {
    "scrolled": true
   },
   "outputs": [
    {
     "name": "stdout",
     "output_type": "stream",
     "text": [
      "Tolak hipotesis nol.\n"
     ]
    }
   ],
   "source": [
    "# Menentukan aturan keputusan\n",
    "if result.pvalue<significance_level:\n",
    "    print(\"Tolak hipotesis nol.\")\n",
    "else:\n",
    "    print(\"Gagal menolak hipotesis nol.\")"
   ]
  },
  {
   "cell_type": "markdown",
   "id": "80496dbd",
   "metadata": {},
   "source": [
    "Terdapat cukup bukti bahwa rata-rata gaji laki-laki dan perempuan tidak sama.\n",
    "Rata-rata gaji laki-laki lebih tinggi dan rata-rata gaji perempuan."
   ]
  },
  {
   "cell_type": "markdown",
   "id": "53abf27a",
   "metadata": {},
   "source": [
    "## 3.3. Derajat Kebebasan"
   ]
  },
  {
   "cell_type": "code",
   "execution_count": 30,
   "id": "8f4a7763",
   "metadata": {},
   "outputs": [
    {
     "data": {
      "text/plain": [
       "324"
      ]
     },
     "execution_count": 30,
     "metadata": {},
     "output_type": "execute_result"
    }
   ],
   "source": [
    "df_data = len(df_male)+len(df_female)\n",
    "df_data"
   ]
  },
  {
   "cell_type": "code",
   "execution_count": 31,
   "id": "dedb878c",
   "metadata": {
    "scrolled": true
   },
   "outputs": [
    {
     "data": {
      "image/png": "[encoded data removed]",
      "text/plain": [
       "<Figure size 432x288 with 1 Axes>"
      ]
     },
     "metadata": {
      "needs_background": "light"
     },
     "output_type": "display_data"
    }
   ],
   "source": [
    "# plot sample distribution \n",
    "x = np.arange(-4, 14, 0.001)\n",
    "plt.plot(x, stats.t.pdf(x, df = df_data), \n",
    "         color='blue')\n",
    "\n",
    "# plot alpha region\n",
    "x_alpha = np.arange(stats.t.ppf(1-significance_level, df = df_data), 4, 0.01)\n",
    "y_alpha = stats.t.pdf(x_alpha, df = df_data)\n",
    "plt.fill_between(x = x_alpha, \n",
    "                 y1 = y_alpha,\n",
    "                 facecolor = 'red',\n",
    "                 alpha = 0.35, \n",
    "                 label = 'alpha')\n",
    "\n",
    "# plot pvalue\n",
    "x_pvalue = np.arange(result.statistic, 4, 0.01)\n",
    "y_pvalue = stats.t.pdf(x_pvalue, df = df_data)\n",
    "\n",
    "plt.fill_between(x = x_pvalue, \n",
    "                 y1 = y_pvalue,\n",
    "                 facecolor = 'green',\n",
    "                 alpha = 0.35, \n",
    "                 label = 'pvalue')\n",
    "\n",
    "# plot t-crit and t-stats\n",
    "plt.axvline(np.round(result.statistic, 4), \n",
    "            color =\"green\", \n",
    "            linestyle = \"--\", \n",
    "            label =\"t-stat\")\n",
    "\n",
    "t_crit = np.round(stats.t.ppf(1-significance_level, df = df_data), 4)\n",
    "plt.axvline(t_crit, \n",
    "            color =\"red\", \n",
    "            linestyle = \"--\", \n",
    "            label =\"t-crit\")\n",
    "\n",
    "plt.legend()\n",
    "plt.xlabel(\"t\")\n",
    "plt.ylabel(\"density\")\n",
    "\n",
    "\n",
    "plt.title(f't Distribution Plot with df = {df_data} \\n\\n t-statistic = {np.round(result.statistic, 4)}, t_crit = {np.round(t_crit,4)}, alpha = {significance_level}');"
   ]
  },
  {
   "cell_type": "markdown",
   "id": "5f38c295",
   "metadata": {
    "scrolled": true
   },
   "source": [
    "## 3.4. Confidence Level"
   ]
  },
  {
   "cell_type": "code",
   "execution_count": 32,
   "id": "6373da2a",
   "metadata": {},
   "outputs": [
    {
     "name": "stdout",
     "output_type": "stream",
     "text": [
      "Confidence Interval : [ -1535.8717753119818 16208.438620231766 ]\n"
     ]
    }
   ],
   "source": [
    "from statsmodels.stats.weightstats import DescrStatsW, CompareMeans\n",
    "\n",
    "cm = CompareMeans(d1 = DescrStatsW(data=df_male), \n",
    "                  d2 = DescrStatsW(data=df_female))\n",
    "\n",
    "lower, upper = cm.tconfint_diff(alpha=significance_level, \n",
    "                                alternative='two-sided', \n",
    "                                usevar='unequal')\n",
    "\n",
    "print(\"Confidence Interval\", \":\", \"[\", lower, upper, \"]\")"
   ]
  },
  {
   "cell_type": "markdown",
   "id": "3c6db4c4",
   "metadata": {},
   "source": [
    "Dari hasil yang didapat, disimpulkan bahwa kita 90% yakin bahwa rata-rata gaji laki-laki lebih dari rata-rata gaji perempuan.\n",
    "Dari confidence interval yang didapat, disimpulkan kita 90% yakin bahwa rata-rata perbedaan gaji memiliki interval di -1535 sampai dengan 16208."
   ]
  },
  {
   "cell_type": "markdown",
   "id": "0b86f033",
   "metadata": {},
   "source": [
    "# 4. Regression Modelling"
   ]
  },
  {
   "cell_type": "markdown",
   "id": "33e2bbe4",
   "metadata": {},
   "source": [
    "## 4.1. Persiapan Data"
   ]
  },
  {
   "cell_type": "markdown",
   "id": "9b3b4909",
   "metadata": {},
   "source": [
    "### a. Menghapus kolom Job Title karena tidak akan digunakan"
   ]
  },
  {
   "cell_type": "code",
   "execution_count": 33,
   "id": "1fa68721",
   "metadata": {
    "scrolled": true
   },
   "outputs": [
    {
     "data": {
      "text/html": [
       "<div>\n",
       "<style scoped>\n",
       "    .dataframe tbody tr th:only-of-type {\n",
       "        vertical-align: middle;\n",
       "    }\n",
       "\n",
       "    .dataframe tbody tr th {\n",
       "        vertical-align: top;\n",
       "    }\n",
       "\n",
       "    .dataframe thead th {\n",
       "        text-align: right;\n",
       "    }\n",
       "</style>\n",
       "<table border=\"1\" class=\"dataframe\">\n",
       "  <thead>\n",
       "    <tr style=\"text-align: right;\">\n",
       "      <th></th>\n",
       "      <th>Age</th>\n",
       "      <th>Gender</th>\n",
       "      <th>EducationLevel</th>\n",
       "      <th>YearsOfExperience</th>\n",
       "      <th>Salary</th>\n",
       "    </tr>\n",
       "  </thead>\n",
       "  <tbody>\n",
       "    <tr>\n",
       "      <th>0</th>\n",
       "      <td>32.0</td>\n",
       "      <td>Male</td>\n",
       "      <td>Bachelor's</td>\n",
       "      <td>5.0</td>\n",
       "      <td>90000.0</td>\n",
       "    </tr>\n",
       "    <tr>\n",
       "      <th>1</th>\n",
       "      <td>28.0</td>\n",
       "      <td>Female</td>\n",
       "      <td>Master's</td>\n",
       "      <td>3.0</td>\n",
       "      <td>65000.0</td>\n",
       "    </tr>\n",
       "    <tr>\n",
       "      <th>2</th>\n",
       "      <td>45.0</td>\n",
       "      <td>Male</td>\n",
       "      <td>PhD</td>\n",
       "      <td>15.0</td>\n",
       "      <td>150000.0</td>\n",
       "    </tr>\n",
       "    <tr>\n",
       "      <th>3</th>\n",
       "      <td>36.0</td>\n",
       "      <td>Female</td>\n",
       "      <td>Bachelor's</td>\n",
       "      <td>7.0</td>\n",
       "      <td>60000.0</td>\n",
       "    </tr>\n",
       "    <tr>\n",
       "      <th>4</th>\n",
       "      <td>52.0</td>\n",
       "      <td>Male</td>\n",
       "      <td>Master's</td>\n",
       "      <td>20.0</td>\n",
       "      <td>200000.0</td>\n",
       "    </tr>\n",
       "  </tbody>\n",
       "</table>\n",
       "</div>"
      ],
      "text/plain": [
       "    Age  Gender EducationLevel  YearsOfExperience    Salary\n",
       "0  32.0    Male     Bachelor's                5.0   90000.0\n",
       "1  28.0  Female       Master's                3.0   65000.0\n",
       "2  45.0    Male            PhD               15.0  150000.0\n",
       "3  36.0  Female     Bachelor's                7.0   60000.0\n",
       "4  52.0    Male       Master's               20.0  200000.0"
      ]
     },
     "execution_count": 33,
     "metadata": {},
     "output_type": "execute_result"
    }
   ],
   "source": [
    "df_salary.drop(\"Job Title\", axis=1, inplace=True)\n",
    "df_salary.head()"
   ]
  },
  {
   "cell_type": "markdown",
   "id": "5408041e",
   "metadata": {},
   "source": [
    "### b. Mengubah Data Kategorik Menjadi Numerik"
   ]
  },
  {
   "cell_type": "markdown",
   "id": "c7f845b4",
   "metadata": {},
   "source": [
    "#### Cek Isi Data Education Level"
   ]
  },
  {
   "cell_type": "code",
   "execution_count": 34,
   "id": "79246b61",
   "metadata": {
    "scrolled": true
   },
   "outputs": [
    {
     "data": {
      "text/plain": [
       "Bachelor's    191\n",
       "Master's       91\n",
       "PhD            42\n",
       "Name: EducationLevel, dtype: int64"
      ]
     },
     "execution_count": 34,
     "metadata": {},
     "output_type": "execute_result"
    }
   ],
   "source": [
    "df_salary[\"EducationLevel\"].value_counts()"
   ]
  },
  {
   "cell_type": "markdown",
   "id": "bbfc1b1f",
   "metadata": {},
   "source": [
    "#### Cek Isi Data Gender"
   ]
  },
  {
   "cell_type": "code",
   "execution_count": 35,
   "id": "dd02ce0e",
   "metadata": {
    "scrolled": true
   },
   "outputs": [
    {
     "data": {
      "text/plain": [
       "Male      170\n",
       "Female    154\n",
       "Name: Gender, dtype: int64"
      ]
     },
     "execution_count": 35,
     "metadata": {},
     "output_type": "execute_result"
    }
   ],
   "source": [
    "df_salary[\"Gender\"].value_counts()"
   ]
  },
  {
   "cell_type": "markdown",
   "id": "6a9e3838",
   "metadata": {},
   "source": [
    "#### Mengubah Data\n",
    "\n",
    "Gender (binary):\n",
    "Male = 0,\n",
    "Female = 1\n",
    "\n",
    "Education Level (ordinal):\n",
    "Bachelor's = 0,\n",
    "Master's = 1,\n",
    "PhD = 2"
   ]
  },
  {
   "cell_type": "code",
   "execution_count": 36,
   "id": "8e242b5f",
   "metadata": {},
   "outputs": [
    {
     "data": {
      "text/html": [
       "<div>\n",
       "<style scoped>\n",
       "    .dataframe tbody tr th:only-of-type {\n",
       "        vertical-align: middle;\n",
       "    }\n",
       "\n",
       "    .dataframe tbody tr th {\n",
       "        vertical-align: top;\n",
       "    }\n",
       "\n",
       "    .dataframe thead th {\n",
       "        text-align: right;\n",
       "    }\n",
       "</style>\n",
       "<table border=\"1\" class=\"dataframe\">\n",
       "  <thead>\n",
       "    <tr style=\"text-align: right;\">\n",
       "      <th></th>\n",
       "      <th>Age</th>\n",
       "      <th>Gender</th>\n",
       "      <th>EducationLevel</th>\n",
       "      <th>YearsOfExperience</th>\n",
       "      <th>Salary</th>\n",
       "    </tr>\n",
       "  </thead>\n",
       "  <tbody>\n",
       "    <tr>\n",
       "      <th>0</th>\n",
       "      <td>32.0</td>\n",
       "      <td>0</td>\n",
       "      <td>0</td>\n",
       "      <td>5.0</td>\n",
       "      <td>90000.0</td>\n",
       "    </tr>\n",
       "    <tr>\n",
       "      <th>1</th>\n",
       "      <td>28.0</td>\n",
       "      <td>1</td>\n",
       "      <td>1</td>\n",
       "      <td>3.0</td>\n",
       "      <td>65000.0</td>\n",
       "    </tr>\n",
       "    <tr>\n",
       "      <th>2</th>\n",
       "      <td>45.0</td>\n",
       "      <td>0</td>\n",
       "      <td>2</td>\n",
       "      <td>15.0</td>\n",
       "      <td>150000.0</td>\n",
       "    </tr>\n",
       "    <tr>\n",
       "      <th>3</th>\n",
       "      <td>36.0</td>\n",
       "      <td>1</td>\n",
       "      <td>0</td>\n",
       "      <td>7.0</td>\n",
       "      <td>60000.0</td>\n",
       "    </tr>\n",
       "    <tr>\n",
       "      <th>4</th>\n",
       "      <td>52.0</td>\n",
       "      <td>0</td>\n",
       "      <td>1</td>\n",
       "      <td>20.0</td>\n",
       "      <td>200000.0</td>\n",
       "    </tr>\n",
       "  </tbody>\n",
       "</table>\n",
       "</div>"
      ],
      "text/plain": [
       "    Age  Gender  EducationLevel  YearsOfExperience    Salary\n",
       "0  32.0       0               0                5.0   90000.0\n",
       "1  28.0       1               1                3.0   65000.0\n",
       "2  45.0       0               2               15.0  150000.0\n",
       "3  36.0       1               0                7.0   60000.0\n",
       "4  52.0       0               1               20.0  200000.0"
      ]
     },
     "execution_count": 36,
     "metadata": {},
     "output_type": "execute_result"
    }
   ],
   "source": [
    "df_salary[\"EducationLevel\"] = df_salary[\"EducationLevel\"].map({\"Bachelor's\":0,\"Master's\":1,\"PhD\":2})\n",
    "df_salary[\"Gender\"] = df_salary[\"Gender\"].map({\"Male\":0,\"Female\":1})\n",
    "df_salary.head()"
   ]
  },
  {
   "cell_type": "markdown",
   "id": "7ad399c0",
   "metadata": {},
   "source": [
    "## 4.2. Single Predictor Modelling"
   ]
  },
  {
   "cell_type": "markdown",
   "id": "25ecfa26",
   "metadata": {},
   "source": [
    "Melihat hubungan antara lama pengalaman kerja dengan gaji."
   ]
  },
  {
   "cell_type": "code",
   "execution_count": 37,
   "id": "c79f6411",
   "metadata": {
    "scrolled": true
   },
   "outputs": [
    {
     "data": {
      "image/png": "[encoded data removed]",
      "text/plain": [
       "<Figure size 432x288 with 1 Axes>"
      ]
     },
     "metadata": {
      "needs_background": "light"
     },
     "output_type": "display_data"
    }
   ],
   "source": [
    "x = df_salary[\"YearsOfExperience\"]\n",
    "y = df_salary[\"Salary\"]\n",
    "\n",
    "# Plot the data\n",
    "plt.scatter(x, y, color = \"k\", marker=\".\")\n",
    "\n",
    "# Add a legend and labels\n",
    "plt.xlabel(\"Years of Experience\")\n",
    "plt.ylabel(\"Salary\")\n",
    "\n",
    "# Add a title and adjust the margins\n",
    "plt.title(\"Data\")\n",
    "\n",
    "# Show the plot\n",
    "plt.show()"
   ]
  },
  {
   "cell_type": "markdown",
   "id": "1b78252f",
   "metadata": {},
   "source": [
    "Menunjukkan hubungan positif yaitu semakin lama pengalaman kerja, semkain tinggi gaji.\n",
    "Untuk pengalaman kerja yang lebih lama, variasi gaji cenderung lebih besar."
   ]
  },
  {
   "cell_type": "markdown",
   "id": "8f643683",
   "metadata": {},
   "source": [
    "### a. Fit Linear Regression - Using Horsepower Variable"
   ]
  },
  {
   "cell_type": "code",
   "execution_count": 38,
   "id": "442b9d67",
   "metadata": {
    "scrolled": false
   },
   "outputs": [
    {
     "data": {
      "text/html": [
       "<div>\n",
       "<style scoped>\n",
       "    .dataframe tbody tr th:only-of-type {\n",
       "        vertical-align: middle;\n",
       "    }\n",
       "\n",
       "    .dataframe tbody tr th {\n",
       "        vertical-align: top;\n",
       "    }\n",
       "\n",
       "    .dataframe thead th {\n",
       "        text-align: right;\n",
       "    }\n",
       "</style>\n",
       "<table border=\"1\" class=\"dataframe\">\n",
       "  <thead>\n",
       "    <tr style=\"text-align: right;\">\n",
       "      <th></th>\n",
       "      <th>coef</th>\n",
       "      <th>std err</th>\n",
       "    </tr>\n",
       "  </thead>\n",
       "  <tbody>\n",
       "    <tr>\n",
       "      <th>Intercept</th>\n",
       "      <td>31959.508721</td>\n",
       "      <td>1873.552736</td>\n",
       "    </tr>\n",
       "    <tr>\n",
       "      <th>YearsOfExperience</th>\n",
       "      <td>6762.954641</td>\n",
       "      <td>155.446221</td>\n",
       "    </tr>\n",
       "  </tbody>\n",
       "</table>\n",
       "</div>"
      ],
      "text/plain": [
       "                           coef      std err\n",
       "Intercept          31959.508721  1873.552736\n",
       "YearsOfExperience   6762.954641   155.446221"
      ]
     },
     "execution_count": 38,
     "metadata": {},
     "output_type": "execute_result"
    }
   ],
   "source": [
    "# Create OLS model object\n",
    "model = smf.ols(\"Salary ~ YearsOfExperience\", df_salary)\n",
    "\n",
    "# Fit the model\n",
    "results_model_salary = model.fit()\n",
    "\n",
    "# Extract the results (Coefficient and Standard Error) to DataFrame\n",
    "results_salary = print_coef_std_err(results_model_salary)\n",
    "results_salary"
   ]
  },
  {
   "cell_type": "code",
   "execution_count": 39,
   "id": "fca84608",
   "metadata": {},
   "outputs": [
    {
     "data": {
      "text/plain": [
       "0.8546166681460778"
      ]
     },
     "execution_count": 39,
     "metadata": {},
     "output_type": "execute_result"
    }
   ],
   "source": [
    "results_model_salary.rsquared"
   ]
  },
  {
   "cell_type": "markdown",
   "id": "899ec46e",
   "metadata": {},
   "source": [
    "$$\\text{Salary} = 31960 + 6763\\times\\text{Years of Experience}$$"
   ]
  },
  {
   "cell_type": "markdown",
   "id": "00533b90",
   "metadata": {},
   "source": [
    "Jika membandingkan dua orang yang memiliki 1 tahun perbedaan pada lama pengalaman kerja, diperkirakan orang yang memiliki pengalaman kerja lebih lama memiliki gaji yang lebih besar dengan selisih 6763."
   ]
  },
  {
   "cell_type": "markdown",
   "id": "a546d5c4",
   "metadata": {},
   "source": [
    "Untuk seseorang yang memiliki lama pengalaman kerja 0 tahun, perkiraan rata-rata gaji yang didapatkan adalah sebesar 31960."
   ]
  },
  {
   "cell_type": "markdown",
   "id": "daf9eab1",
   "metadata": {},
   "source": [
    "**Visualisasi**"
   ]
  },
  {
   "cell_type": "code",
   "execution_count": 40,
   "id": "f3cbdfec",
   "metadata": {
    "scrolled": true
   },
   "outputs": [
    {
     "data": {
      "image/png": "[encoded data removed]",
      "text/plain": [
       "<Figure size 432x288 with 1 Axes>"
      ]
     },
     "metadata": {
      "needs_background": "light"
     },
     "output_type": "display_data"
    }
   ],
   "source": [
    "predictor = \"YearsOfExperience\"\n",
    "outcome = \"Salary\"\n",
    "data = df_salary.copy()\n",
    "results_ = results_salary.copy()\n",
    "\n",
    "# Plot the data\n",
    "plt.scatter(data[predictor], data[outcome], color = \"k\", marker=\".\")\n",
    "\n",
    "# Calculate the fitted values\n",
    "a_hat = results_.loc[\"Intercept\"][\"coef\"]\n",
    "b_hat = results_.loc[predictor][\"coef\"]\n",
    "\n",
    "x_domain = np.linspace(np.min(data[predictor]), np.max(data[predictor]), 10000)\n",
    "\n",
    "fitted_values = a_hat + b_hat * x_domain\n",
    "\n",
    "# Plot the fitted line\n",
    "plt.plot(x_domain, fitted_values, label=\"Fitted line\", color = \"b\")\n",
    "\n",
    "# Add a legend and labels\n",
    "# plt.legend()\n",
    "plt.ylabel(outcome)\n",
    "plt.xlabel(predictor)\n",
    "\n",
    "# Add a title and adjust the margins\n",
    "plt.title(\"Data and fitted regression line\")\n",
    "\n",
    "# Show the plot\n",
    "plt.show()"
   ]
  },
  {
   "cell_type": "markdown",
   "id": "8b208774",
   "metadata": {},
   "source": [
    "**Residual plot**"
   ]
  },
  {
   "cell_type": "code",
   "execution_count": 41,
   "id": "ec23f147",
   "metadata": {
    "scrolled": true
   },
   "outputs": [
    {
     "data": {
      "text/plain": [
       "Text(0.5, 1.0, 'Residuals vs. Predicted mpg')"
      ]
     },
     "execution_count": 41,
     "metadata": {},
     "output_type": "execute_result"
    },
    {
     "data": {
      "image/png": "[encoded data removed]",
      "text/plain": [
       "<Figure size 432x288 with 1 Axes>"
      ]
     },
     "metadata": {
      "needs_background": "light"
     },
     "output_type": "display_data"
    }
   ],
   "source": [
    "# Residual Plot and Explained Variance\n",
    "plt.scatter(results_model_salary.fittedvalues, results_model_salary.resid, marker=\".\", c = \"k\")\n",
    "\n",
    "# Plot the horizontal line in 0 as the fitted line\n",
    "plt.axhline([0])\n",
    "\n",
    "plt.xlabel(\"predicted mpg\")\n",
    "plt.ylabel(\"residual\")\n",
    "plt.title(f\"Residuals vs. Predicted mpg\")"
   ]
  },
  {
   "cell_type": "code",
   "execution_count": 42,
   "id": "00dd8629",
   "metadata": {
    "scrolled": true
   },
   "outputs": [
    {
     "data": {
      "text/plain": [
       "0.8546166681460778"
      ]
     },
     "execution_count": 42,
     "metadata": {},
     "output_type": "execute_result"
    }
   ],
   "source": [
    "results_model_salary.rsquared"
   ]
  },
  {
   "cell_type": "markdown",
   "id": "c98b1e75",
   "metadata": {},
   "source": [
    "Residual menghasilkan pola yang terlihat jelas, hal ini membuat ketidaksesuaian lebih terlihat meskipun garis regresi menjelaskan lebih dari 85% variansi lama pengalaman kerja."
   ]
  },
  {
   "cell_type": "markdown",
   "id": "dc964a2a",
   "metadata": {},
   "source": [
    "**Normality of Error Assumption**"
   ]
  },
  {
   "cell_type": "code",
   "execution_count": 43,
   "id": "9ac30961",
   "metadata": {},
   "outputs": [
    {
     "data": {
      "image/png": "[encoded data removed]",
      "text/plain": [
       "<Figure size 432x288 with 1 Axes>"
      ]
     },
     "metadata": {
      "needs_background": "light"
     },
     "output_type": "display_data"
    }
   ],
   "source": [
    "# Normality of Error Assumption\n",
    "\n",
    "plt.hist(results_model_salary.resid, color='tab:blue', alpha=0.4)\n",
    "plt.xlabel(\"residual\")\n",
    "plt.ylabel(\"count\")\n",
    "\n",
    "plt.show()"
   ]
  },
  {
   "cell_type": "markdown",
   "id": "73fa7def",
   "metadata": {},
   "source": [
    "### b. Fit Linear Regression - Using Log Transform on Weight Variable"
   ]
  },
  {
   "cell_type": "code",
   "execution_count": 44,
   "id": "b4b76d7a",
   "metadata": {
    "scrolled": true
   },
   "outputs": [
    {
     "name": "stderr",
     "output_type": "stream",
     "text": [
      "D:\\Programs\\anaconda3\\lib\\site-packages\\pandas\\core\\arraylike.py:397: RuntimeWarning: divide by zero encountered in log\n",
      "  result = getattr(ufunc, method)(*inputs, **kwargs)\n"
     ]
    },
    {
     "data": {
      "text/html": [
       "<div>\n",
       "<style scoped>\n",
       "    .dataframe tbody tr th:only-of-type {\n",
       "        vertical-align: middle;\n",
       "    }\n",
       "\n",
       "    .dataframe tbody tr th {\n",
       "        vertical-align: top;\n",
       "    }\n",
       "\n",
       "    .dataframe thead th {\n",
       "        text-align: right;\n",
       "    }\n",
       "</style>\n",
       "<table border=\"1\" class=\"dataframe\">\n",
       "  <thead>\n",
       "    <tr style=\"text-align: right;\">\n",
       "      <th></th>\n",
       "      <th>count</th>\n",
       "      <th>mean</th>\n",
       "      <th>std</th>\n",
       "      <th>min</th>\n",
       "      <th>25%</th>\n",
       "      <th>50%</th>\n",
       "      <th>75%</th>\n",
       "      <th>max</th>\n",
       "    </tr>\n",
       "  </thead>\n",
       "  <tbody>\n",
       "    <tr>\n",
       "      <th>Age</th>\n",
       "      <td>324.0</td>\n",
       "      <td>37.382716</td>\n",
       "      <td>7.185844</td>\n",
       "      <td>23.000000</td>\n",
       "      <td>31.000000</td>\n",
       "      <td>36.500000</td>\n",
       "      <td>44.000000</td>\n",
       "      <td>53.000000</td>\n",
       "    </tr>\n",
       "    <tr>\n",
       "      <th>Gender</th>\n",
       "      <td>324.0</td>\n",
       "      <td>0.475309</td>\n",
       "      <td>0.500162</td>\n",
       "      <td>0.000000</td>\n",
       "      <td>0.000000</td>\n",
       "      <td>0.000000</td>\n",
       "      <td>1.000000</td>\n",
       "      <td>1.000000</td>\n",
       "    </tr>\n",
       "    <tr>\n",
       "      <th>EducationLevel</th>\n",
       "      <td>324.0</td>\n",
       "      <td>0.540123</td>\n",
       "      <td>0.713597</td>\n",
       "      <td>0.000000</td>\n",
       "      <td>0.000000</td>\n",
       "      <td>0.000000</td>\n",
       "      <td>1.000000</td>\n",
       "      <td>2.000000</td>\n",
       "    </tr>\n",
       "    <tr>\n",
       "      <th>YearsOfExperience</th>\n",
       "      <td>324.0</td>\n",
       "      <td>10.058642</td>\n",
       "      <td>6.650470</td>\n",
       "      <td>0.000000</td>\n",
       "      <td>4.000000</td>\n",
       "      <td>9.000000</td>\n",
       "      <td>16.000000</td>\n",
       "      <td>25.000000</td>\n",
       "    </tr>\n",
       "    <tr>\n",
       "      <th>Salary</th>\n",
       "      <td>324.0</td>\n",
       "      <td>99985.648148</td>\n",
       "      <td>48652.271440</td>\n",
       "      <td>350.000000</td>\n",
       "      <td>55000.000000</td>\n",
       "      <td>95000.000000</td>\n",
       "      <td>140000.000000</td>\n",
       "      <td>250000.000000</td>\n",
       "    </tr>\n",
       "    <tr>\n",
       "      <th>logYOE</th>\n",
       "      <td>324.0</td>\n",
       "      <td>2.005576</td>\n",
       "      <td>0.874208</td>\n",
       "      <td>-0.693147</td>\n",
       "      <td>1.386294</td>\n",
       "      <td>2.197225</td>\n",
       "      <td>2.772589</td>\n",
       "      <td>3.218876</td>\n",
       "    </tr>\n",
       "  </tbody>\n",
       "</table>\n",
       "</div>"
      ],
      "text/plain": [
       "                   count          mean           std         min  \\\n",
       "Age                324.0     37.382716      7.185844   23.000000   \n",
       "Gender             324.0      0.475309      0.500162    0.000000   \n",
       "EducationLevel     324.0      0.540123      0.713597    0.000000   \n",
       "YearsOfExperience  324.0     10.058642      6.650470    0.000000   \n",
       "Salary             324.0  99985.648148  48652.271440  350.000000   \n",
       "logYOE             324.0      2.005576      0.874208   -0.693147   \n",
       "\n",
       "                            25%           50%            75%            max  \n",
       "Age                   31.000000     36.500000      44.000000      53.000000  \n",
       "Gender                 0.000000      0.000000       1.000000       1.000000  \n",
       "EducationLevel         0.000000      0.000000       1.000000       2.000000  \n",
       "YearsOfExperience      4.000000      9.000000      16.000000      25.000000  \n",
       "Salary             55000.000000  95000.000000  140000.000000  250000.000000  \n",
       "logYOE                 1.386294      2.197225       2.772589       3.218876  "
      ]
     },
     "execution_count": 44,
     "metadata": {},
     "output_type": "execute_result"
    }
   ],
   "source": [
    "df_salary[\"logYOE\"] = np.log(df_salary[\"YearsOfExperience\"])\n",
    "df_salary.loc[df_salary[\"YearsOfExperience\"] == 0, \"logYOE\"] = 0\n",
    "df_salary.describe().transpose()"
   ]
  },
  {
   "cell_type": "code",
   "execution_count": 45,
   "id": "478394ad",
   "metadata": {
    "scrolled": true
   },
   "outputs": [
    {
     "data": {
      "text/plain": [
       "0.7656239539695425"
      ]
     },
     "execution_count": 45,
     "metadata": {},
     "output_type": "execute_result"
    }
   ],
   "source": [
    "# Create OLS model object\n",
    "model = smf.ols(\"Salary ~ logYOE\", df_salary)\n",
    "\n",
    "# Fit the model\n",
    "results_logtransform = model.fit()\n",
    "\n",
    "# Extract the results (Coefficient and Standard Error) to DataFrame\n",
    "results_salary_log = print_coef_std_err(results_logtransform)\n",
    "results_logtransform.rsquared"
   ]
  },
  {
   "cell_type": "markdown",
   "id": "265e6935",
   "metadata": {},
   "source": [
    "Nilai R Squared regresi linier dengan transformasi log lebih kecil daripada tanpa transformasi.\n",
    "Performa regresi tanpa transformasi lebih baik."
   ]
  },
  {
   "cell_type": "markdown",
   "id": "0c70d3ba",
   "metadata": {},
   "source": [
    "## 4.3. Multiple Predictors Modelling"
   ]
  },
  {
   "cell_type": "markdown",
   "id": "cfd9434e",
   "metadata": {},
   "source": [
    "**Data preparation**"
   ]
  },
  {
   "cell_type": "code",
   "execution_count": 46,
   "id": "75674efe",
   "metadata": {
    "scrolled": false
   },
   "outputs": [
    {
     "data": {
      "text/html": [
       "<div>\n",
       "<style scoped>\n",
       "    .dataframe tbody tr th:only-of-type {\n",
       "        vertical-align: middle;\n",
       "    }\n",
       "\n",
       "    .dataframe tbody tr th {\n",
       "        vertical-align: top;\n",
       "    }\n",
       "\n",
       "    .dataframe thead th {\n",
       "        text-align: right;\n",
       "    }\n",
       "</style>\n",
       "<table border=\"1\" class=\"dataframe\">\n",
       "  <thead>\n",
       "    <tr style=\"text-align: right;\">\n",
       "      <th></th>\n",
       "      <th>Age</th>\n",
       "      <th>Gender</th>\n",
       "      <th>EducationLevel</th>\n",
       "      <th>YearsOfExperience</th>\n",
       "      <th>Salary</th>\n",
       "    </tr>\n",
       "  </thead>\n",
       "  <tbody>\n",
       "    <tr>\n",
       "      <th>0</th>\n",
       "      <td>32.0</td>\n",
       "      <td>0</td>\n",
       "      <td>0</td>\n",
       "      <td>5.0</td>\n",
       "      <td>90000.0</td>\n",
       "    </tr>\n",
       "    <tr>\n",
       "      <th>1</th>\n",
       "      <td>28.0</td>\n",
       "      <td>1</td>\n",
       "      <td>1</td>\n",
       "      <td>3.0</td>\n",
       "      <td>65000.0</td>\n",
       "    </tr>\n",
       "    <tr>\n",
       "      <th>2</th>\n",
       "      <td>45.0</td>\n",
       "      <td>0</td>\n",
       "      <td>2</td>\n",
       "      <td>15.0</td>\n",
       "      <td>150000.0</td>\n",
       "    </tr>\n",
       "    <tr>\n",
       "      <th>3</th>\n",
       "      <td>36.0</td>\n",
       "      <td>1</td>\n",
       "      <td>0</td>\n",
       "      <td>7.0</td>\n",
       "      <td>60000.0</td>\n",
       "    </tr>\n",
       "    <tr>\n",
       "      <th>4</th>\n",
       "      <td>52.0</td>\n",
       "      <td>0</td>\n",
       "      <td>1</td>\n",
       "      <td>20.0</td>\n",
       "      <td>200000.0</td>\n",
       "    </tr>\n",
       "  </tbody>\n",
       "</table>\n",
       "</div>"
      ],
      "text/plain": [
       "    Age  Gender  EducationLevel  YearsOfExperience    Salary\n",
       "0  32.0       0               0                5.0   90000.0\n",
       "1  28.0       1               1                3.0   65000.0\n",
       "2  45.0       0               2               15.0  150000.0\n",
       "3  36.0       1               0                7.0   60000.0\n",
       "4  52.0       0               1               20.0  200000.0"
      ]
     },
     "execution_count": 46,
     "metadata": {},
     "output_type": "execute_result"
    }
   ],
   "source": [
    "# Mengembalikan data tabel\n",
    "df_salary.drop(\"logYOE\", axis=1, inplace=True)\n",
    "df_salary.head()"
   ]
  },
  {
   "cell_type": "code",
   "execution_count": 47,
   "id": "2c0dfdbe",
   "metadata": {},
   "outputs": [],
   "source": [
    "class StatsmodelsRegressor(BaseEstimator, RegressorMixin):\n",
    "    \"\"\" A universal sklearn-style wrapper for statsmodels regressors \"\"\"\n",
    "    \n",
    "    def __init__(self, sm_class, sm_formula):\n",
    "        self.sm_class = sm_class\n",
    "        self.sm_formula = sm_formula\n",
    "        self.model = None\n",
    "        self.result = None\n",
    " \n",
    "    def fit(self, data, dummy):\n",
    "        self.model = self.sm_class(self.sm_formula, data)\n",
    "        self.result = self.model.fit()\n",
    " \n",
    "    def predict(self,X):\n",
    "        return self.result.predict(X)\n",
    "\n",
    "def kfold_split(data, n_fold):\n",
    "    \"\"\"\n",
    "    Function to combine estimated coefficients and standard error in one DataFrame\n",
    "    :param data: <pandas DataFrame> \n",
    "    :param n_fold: <int> Number of fold in k-fold CV\n",
    "    :return fold_train: <pandas DataFrame> Training Data\n",
    "    :return fold_test: <pandas DataFrame> Testing Data\n",
    "    \"\"\"\n",
    "    kfold = KFold(n_splits = n_fold, \n",
    "                  shuffle = True, \n",
    "                  random_state=123)\n",
    "    fold_train = {}\n",
    "    fold_test = {}\n",
    "\n",
    "    for i, (train, test) in enumerate(kfold.split(data)):\n",
    "        print(f\"fold {i+1}, train data rows: {len(train)}, test data rows: {len(test)}\")\n",
    "        fold_train[i] = data.iloc[train].copy()\n",
    "        fold_test[i] = data.iloc[test].copy()\n",
    "        \n",
    "    return (fold_train, fold_test)"
   ]
  },
  {
   "cell_type": "markdown",
   "id": "574ff205",
   "metadata": {},
   "source": [
    "### Evaluate a model using K-fold cross validation"
   ]
  },
  {
   "cell_type": "code",
   "execution_count": 48,
   "id": "13ab7953",
   "metadata": {},
   "outputs": [
    {
     "data": {
      "text/html": [
       "<div>\n",
       "<style scoped>\n",
       "    .dataframe tbody tr th:only-of-type {\n",
       "        vertical-align: middle;\n",
       "    }\n",
       "\n",
       "    .dataframe tbody tr th {\n",
       "        vertical-align: top;\n",
       "    }\n",
       "\n",
       "    .dataframe thead th {\n",
       "        text-align: right;\n",
       "    }\n",
       "</style>\n",
       "<table border=\"1\" class=\"dataframe\">\n",
       "  <thead>\n",
       "    <tr style=\"text-align: right;\">\n",
       "      <th></th>\n",
       "      <th>test_rsquared</th>\n",
       "      <th>folds</th>\n",
       "    </tr>\n",
       "  </thead>\n",
       "  <tbody>\n",
       "    <tr>\n",
       "      <th>0</th>\n",
       "      <td>0.892141</td>\n",
       "      <td>Folds 1</td>\n",
       "    </tr>\n",
       "    <tr>\n",
       "      <th>1</th>\n",
       "      <td>0.902729</td>\n",
       "      <td>Folds 2</td>\n",
       "    </tr>\n",
       "    <tr>\n",
       "      <th>2</th>\n",
       "      <td>0.912515</td>\n",
       "      <td>Folds 3</td>\n",
       "    </tr>\n",
       "    <tr>\n",
       "      <th>3</th>\n",
       "      <td>0.825113</td>\n",
       "      <td>Folds 4</td>\n",
       "    </tr>\n",
       "    <tr>\n",
       "      <th>4</th>\n",
       "      <td>0.897267</td>\n",
       "      <td>Folds 5</td>\n",
       "    </tr>\n",
       "  </tbody>\n",
       "</table>\n",
       "</div>"
      ],
      "text/plain": [
       "   test_rsquared    folds\n",
       "0       0.892141  Folds 1\n",
       "1       0.902729  Folds 2\n",
       "2       0.912515  Folds 3\n",
       "3       0.825113  Folds 4\n",
       "4       0.897267  Folds 5"
      ]
     },
     "execution_count": 48,
     "metadata": {},
     "output_type": "execute_result"
    }
   ],
   "source": [
    "# Create a class model\n",
    "ols_all_pred = StatsmodelsRegressor(smf.ols, \"Salary ~ Age + Gender + C(EducationLevel) + YearsOfExperience + Age:YearsOfExperience\")\n",
    "\n",
    "# Create k-fold splitter object\n",
    "kfold = KFold(n_splits=5, shuffle = True, random_state=123)\n",
    "\n",
    "scores_ols_all_pred = cross_val_score(estimator = ols_all_pred,\n",
    "                                       X = df_salary,\n",
    "                                       y = df_salary[\"Salary\"],\n",
    "                                       cv = kfold,\n",
    "                                       scoring = \"r2\")\n",
    "scores_ols_all_pred = pd.DataFrame(data = scores_ols_all_pred, \n",
    "                                    columns=[\"test_rsquared\"])\n",
    "scores_ols_all_pred[\"folds\"] = [f\"Folds {i+1}\" for i in range(5)]\n",
    "scores_ols_all_pred"
   ]
  },
  {
   "cell_type": "code",
   "execution_count": 49,
   "id": "4f9e2eba",
   "metadata": {
    "scrolled": true
   },
   "outputs": [
    {
     "data": {
      "text/plain": [
       "0.8859529642576728"
      ]
     },
     "execution_count": 49,
     "metadata": {},
     "output_type": "execute_result"
    }
   ],
   "source": [
    "scores_ols_all_pred[\"test_rsquared\"].mean()"
   ]
  },
  {
   "cell_type": "markdown",
   "id": "9c14459a",
   "metadata": {},
   "source": [
    "The model use all media have good fit, it can explain 88.59% variance of salary. Let's build the model using whole data to infer the estimated coefficient from the model, and gain the insight from business prespective"
   ]
  },
  {
   "cell_type": "markdown",
   "id": "23c961c8",
   "metadata": {},
   "source": [
    "## Fit Linear Regression - Using All Predictors"
   ]
  },
  {
   "cell_type": "code",
   "execution_count": 50,
   "id": "c761ff5c",
   "metadata": {
    "scrolled": true
   },
   "outputs": [
    {
     "data": {
      "text/html": [
       "<div>\n",
       "<style scoped>\n",
       "    .dataframe tbody tr th:only-of-type {\n",
       "        vertical-align: middle;\n",
       "    }\n",
       "\n",
       "    .dataframe tbody tr th {\n",
       "        vertical-align: top;\n",
       "    }\n",
       "\n",
       "    .dataframe thead th {\n",
       "        text-align: right;\n",
       "    }\n",
       "</style>\n",
       "<table border=\"1\" class=\"dataframe\">\n",
       "  <thead>\n",
       "    <tr style=\"text-align: right;\">\n",
       "      <th></th>\n",
       "      <th>coef</th>\n",
       "      <th>std err</th>\n",
       "    </tr>\n",
       "  </thead>\n",
       "  <tbody>\n",
       "    <tr>\n",
       "      <th>Intercept</th>\n",
       "      <td>-44159.185552</td>\n",
       "      <td>16580.736611</td>\n",
       "    </tr>\n",
       "    <tr>\n",
       "      <th>C(EducationLevel)[T.1]</th>\n",
       "      <td>19574.074815</td>\n",
       "      <td>2257.344892</td>\n",
       "    </tr>\n",
       "    <tr>\n",
       "      <th>C(EducationLevel)[T.2]</th>\n",
       "      <td>26339.473807</td>\n",
       "      <td>3160.610738</td>\n",
       "    </tr>\n",
       "    <tr>\n",
       "      <th>Age</th>\n",
       "      <td>3042.039143</td>\n",
       "      <td>611.919060</td>\n",
       "    </tr>\n",
       "    <tr>\n",
       "      <th>Gender</th>\n",
       "      <td>-9310.571777</td>\n",
       "      <td>1766.475849</td>\n",
       "    </tr>\n",
       "    <tr>\n",
       "      <th>YearsOfExperience</th>\n",
       "      <td>2433.641886</td>\n",
       "      <td>1211.995905</td>\n",
       "    </tr>\n",
       "    <tr>\n",
       "      <th>Age:YearsOfExperience</th>\n",
       "      <td>3.452762</td>\n",
       "      <td>21.044653</td>\n",
       "    </tr>\n",
       "  </tbody>\n",
       "</table>\n",
       "</div>"
      ],
      "text/plain": [
       "                                coef       std err\n",
       "Intercept              -44159.185552  16580.736611\n",
       "C(EducationLevel)[T.1]  19574.074815   2257.344892\n",
       "C(EducationLevel)[T.2]  26339.473807   3160.610738\n",
       "Age                      3042.039143    611.919060\n",
       "Gender                  -9310.571777   1766.475849\n",
       "YearsOfExperience        2433.641886   1211.995905\n",
       "Age:YearsOfExperience       3.452762     21.044653"
      ]
     },
     "execution_count": 50,
     "metadata": {},
     "output_type": "execute_result"
    }
   ],
   "source": [
    "# Create OLS model object\n",
    "model = smf.ols(\"Salary ~ Age + Gender + C(EducationLevel) + YearsOfExperience + Age:YearsOfExperience\", df_salary)\n",
    "\n",
    "# Fit the model\n",
    "results_model_salary = model.fit()\n",
    "\n",
    "# Extract the results (Coefficient and Standard Error) to DataFrame\n",
    "results_salary = print_coef_std_err(results_model_salary)\n",
    "results_salary"
   ]
  },
  {
   "cell_type": "markdown",
   "id": "70076c80",
   "metadata": {},
   "source": [
    "Nilai intercept negatif sehingga kurang bermakna."
   ]
  },
  {
   "cell_type": "markdown",
   "id": "65e62129",
   "metadata": {},
   "source": [
    "### Melakukan Centering Predictor Age"
   ]
  },
  {
   "cell_type": "markdown",
   "id": "2085f249",
   "metadata": {},
   "source": [
    "Centering dilakukan agar interpretasi hasil regresi lebih baik."
   ]
  },
  {
   "cell_type": "code",
   "execution_count": 51,
   "id": "4641eecf",
   "metadata": {
    "scrolled": false
   },
   "outputs": [
    {
     "data": {
      "text/plain": [
       "37.0"
      ]
     },
     "execution_count": 51,
     "metadata": {},
     "output_type": "execute_result"
    }
   ],
   "source": [
    "mean_age = df_salary[\"Age\"].mean()\n",
    "mean_age = np.round(mean_age,0)\n",
    "mean_age"
   ]
  },
  {
   "cell_type": "code",
   "execution_count": 52,
   "id": "0b455c62",
   "metadata": {
    "scrolled": true
   },
   "outputs": [
    {
     "data": {
      "text/html": [
       "<div>\n",
       "<style scoped>\n",
       "    .dataframe tbody tr th:only-of-type {\n",
       "        vertical-align: middle;\n",
       "    }\n",
       "\n",
       "    .dataframe tbody tr th {\n",
       "        vertical-align: top;\n",
       "    }\n",
       "\n",
       "    .dataframe thead th {\n",
       "        text-align: right;\n",
       "    }\n",
       "</style>\n",
       "<table border=\"1\" class=\"dataframe\">\n",
       "  <thead>\n",
       "    <tr style=\"text-align: right;\">\n",
       "      <th></th>\n",
       "      <th>AgeCentered</th>\n",
       "      <th>Gender</th>\n",
       "      <th>EducationLevel</th>\n",
       "      <th>YearsOfExperience</th>\n",
       "      <th>Salary</th>\n",
       "    </tr>\n",
       "  </thead>\n",
       "  <tbody>\n",
       "    <tr>\n",
       "      <th>0</th>\n",
       "      <td>-5.0</td>\n",
       "      <td>0</td>\n",
       "      <td>0</td>\n",
       "      <td>5.0</td>\n",
       "      <td>90000.0</td>\n",
       "    </tr>\n",
       "    <tr>\n",
       "      <th>1</th>\n",
       "      <td>-9.0</td>\n",
       "      <td>1</td>\n",
       "      <td>1</td>\n",
       "      <td>3.0</td>\n",
       "      <td>65000.0</td>\n",
       "    </tr>\n",
       "    <tr>\n",
       "      <th>2</th>\n",
       "      <td>8.0</td>\n",
       "      <td>0</td>\n",
       "      <td>2</td>\n",
       "      <td>15.0</td>\n",
       "      <td>150000.0</td>\n",
       "    </tr>\n",
       "    <tr>\n",
       "      <th>3</th>\n",
       "      <td>-1.0</td>\n",
       "      <td>1</td>\n",
       "      <td>0</td>\n",
       "      <td>7.0</td>\n",
       "      <td>60000.0</td>\n",
       "    </tr>\n",
       "    <tr>\n",
       "      <th>4</th>\n",
       "      <td>15.0</td>\n",
       "      <td>0</td>\n",
       "      <td>1</td>\n",
       "      <td>20.0</td>\n",
       "      <td>200000.0</td>\n",
       "    </tr>\n",
       "  </tbody>\n",
       "</table>\n",
       "</div>"
      ],
      "text/plain": [
       "   AgeCentered  Gender  EducationLevel  YearsOfExperience    Salary\n",
       "0         -5.0       0               0                5.0   90000.0\n",
       "1         -9.0       1               1                3.0   65000.0\n",
       "2          8.0       0               2               15.0  150000.0\n",
       "3         -1.0       1               0                7.0   60000.0\n",
       "4         15.0       0               1               20.0  200000.0"
      ]
     },
     "execution_count": 52,
     "metadata": {},
     "output_type": "execute_result"
    }
   ],
   "source": [
    "df_salary[\"Age\"] = df_salary[\"Age\"]-mean_age\n",
    "df_salary.rename(columns = {\"Age\":\"AgeCentered\"}, inplace=True)\n",
    "df_salary.head()"
   ]
  },
  {
   "cell_type": "code",
   "execution_count": 53,
   "id": "cb5b0acc",
   "metadata": {},
   "outputs": [
    {
     "data": {
      "text/html": [
       "<div>\n",
       "<style scoped>\n",
       "    .dataframe tbody tr th:only-of-type {\n",
       "        vertical-align: middle;\n",
       "    }\n",
       "\n",
       "    .dataframe tbody tr th {\n",
       "        vertical-align: top;\n",
       "    }\n",
       "\n",
       "    .dataframe thead th {\n",
       "        text-align: right;\n",
       "    }\n",
       "</style>\n",
       "<table border=\"1\" class=\"dataframe\">\n",
       "  <thead>\n",
       "    <tr style=\"text-align: right;\">\n",
       "      <th></th>\n",
       "      <th>test_rsquared</th>\n",
       "      <th>folds</th>\n",
       "    </tr>\n",
       "  </thead>\n",
       "  <tbody>\n",
       "    <tr>\n",
       "      <th>0</th>\n",
       "      <td>0.849681</td>\n",
       "      <td>Folds 1</td>\n",
       "    </tr>\n",
       "    <tr>\n",
       "      <th>1</th>\n",
       "      <td>0.907836</td>\n",
       "      <td>Folds 2</td>\n",
       "    </tr>\n",
       "    <tr>\n",
       "      <th>2</th>\n",
       "      <td>0.873470</td>\n",
       "      <td>Folds 3</td>\n",
       "    </tr>\n",
       "    <tr>\n",
       "      <th>3</th>\n",
       "      <td>0.938117</td>\n",
       "      <td>Folds 4</td>\n",
       "    </tr>\n",
       "    <tr>\n",
       "      <th>4</th>\n",
       "      <td>0.881399</td>\n",
       "      <td>Folds 5</td>\n",
       "    </tr>\n",
       "  </tbody>\n",
       "</table>\n",
       "</div>"
      ],
      "text/plain": [
       "   test_rsquared    folds\n",
       "0       0.849681  Folds 1\n",
       "1       0.907836  Folds 2\n",
       "2       0.873470  Folds 3\n",
       "3       0.938117  Folds 4\n",
       "4       0.881399  Folds 5"
      ]
     },
     "execution_count": 53,
     "metadata": {},
     "output_type": "execute_result"
    }
   ],
   "source": [
    "# Create a class model\n",
    "ols_all_pred = StatsmodelsRegressor(smf.ols, \"Salary ~ AgeCentered + Gender + C(EducationLevel) + YearsOfExperience + AgeCentered:YearsOfExperience\")\n",
    "\n",
    "# Create k-fold splitter object\n",
    "kfold = KFold(n_splits=5, shuffle = True, random_state=12)\n",
    "\n",
    "scores_ols_all_pred = cross_val_score(estimator = ols_all_pred,\n",
    "                                       X = df_salary,\n",
    "                                       y = df_salary[\"Salary\"],\n",
    "                                       cv = kfold,\n",
    "                                       scoring = \"r2\")\n",
    "scores_ols_all_pred = pd.DataFrame(data = scores_ols_all_pred, \n",
    "                                    columns=[\"test_rsquared\"])\n",
    "scores_ols_all_pred[\"folds\"] = [f\"Folds {i+1}\" for i in range(5)]\n",
    "scores_ols_all_pred"
   ]
  },
  {
   "cell_type": "code",
   "execution_count": 54,
   "id": "d8f4cddf",
   "metadata": {},
   "outputs": [
    {
     "data": {
      "text/plain": [
       "0.8901007028969221"
      ]
     },
     "execution_count": 54,
     "metadata": {},
     "output_type": "execute_result"
    }
   ],
   "source": [
    "scores_ols_all_pred[\"test_rsquared\"].mean()"
   ]
  },
  {
   "cell_type": "markdown",
   "id": "38ff4f8e",
   "metadata": {},
   "source": [
    "The model use all media have good fit, it can explain 89% variance of salary. Let's build the model using whole data to infer the estimated coefficient from the model, and gain the insight from business prespective."
   ]
  },
  {
   "cell_type": "code",
   "execution_count": 55,
   "id": "0c8dbd36",
   "metadata": {
    "scrolled": true
   },
   "outputs": [
    {
     "data": {
      "text/html": [
       "<div>\n",
       "<style scoped>\n",
       "    .dataframe tbody tr th:only-of-type {\n",
       "        vertical-align: middle;\n",
       "    }\n",
       "\n",
       "    .dataframe tbody tr th {\n",
       "        vertical-align: top;\n",
       "    }\n",
       "\n",
       "    .dataframe thead th {\n",
       "        text-align: right;\n",
       "    }\n",
       "</style>\n",
       "<table border=\"1\" class=\"dataframe\">\n",
       "  <thead>\n",
       "    <tr style=\"text-align: right;\">\n",
       "      <th></th>\n",
       "      <th>coef</th>\n",
       "      <th>std err</th>\n",
       "    </tr>\n",
       "  </thead>\n",
       "  <tbody>\n",
       "    <tr>\n",
       "      <th>Intercept</th>\n",
       "      <td>68396.262743</td>\n",
       "      <td>6722.803498</td>\n",
       "    </tr>\n",
       "    <tr>\n",
       "      <th>C(EducationLevel)[T.1]</th>\n",
       "      <td>19574.074815</td>\n",
       "      <td>2257.344892</td>\n",
       "    </tr>\n",
       "    <tr>\n",
       "      <th>C(EducationLevel)[T.2]</th>\n",
       "      <td>26339.473807</td>\n",
       "      <td>3160.610738</td>\n",
       "    </tr>\n",
       "    <tr>\n",
       "      <th>AgeCentered</th>\n",
       "      <td>3042.039143</td>\n",
       "      <td>611.919060</td>\n",
       "    </tr>\n",
       "    <tr>\n",
       "      <th>Gender</th>\n",
       "      <td>-9310.571777</td>\n",
       "      <td>1766.475849</td>\n",
       "    </tr>\n",
       "    <tr>\n",
       "      <th>YearsOfExperience</th>\n",
       "      <td>2561.394070</td>\n",
       "      <td>714.405923</td>\n",
       "    </tr>\n",
       "    <tr>\n",
       "      <th>AgeCentered:YearsOfExperience</th>\n",
       "      <td>3.452762</td>\n",
       "      <td>21.044653</td>\n",
       "    </tr>\n",
       "  </tbody>\n",
       "</table>\n",
       "</div>"
      ],
      "text/plain": [
       "                                       coef      std err\n",
       "Intercept                      68396.262743  6722.803498\n",
       "C(EducationLevel)[T.1]         19574.074815  2257.344892\n",
       "C(EducationLevel)[T.2]         26339.473807  3160.610738\n",
       "AgeCentered                     3042.039143   611.919060\n",
       "Gender                         -9310.571777  1766.475849\n",
       "YearsOfExperience               2561.394070   714.405923\n",
       "AgeCentered:YearsOfExperience      3.452762    21.044653"
      ]
     },
     "execution_count": 55,
     "metadata": {},
     "output_type": "execute_result"
    }
   ],
   "source": [
    "# Create OLS model object\n",
    "model = smf.ols('Salary ~ AgeCentered + Gender + C(EducationLevel) + YearsOfExperience + AgeCentered:YearsOfExperience', df_salary)\n",
    "\n",
    "# Fit the model\n",
    "results = model.fit()\n",
    "\n",
    "# Extract the results (Coefficient and Standard Error) to DataFrame\n",
    "results_salary = print_coef_std_err(results)\n",
    "results_salary"
   ]
  },
  {
   "cell_type": "markdown",
   "id": "d510af6c",
   "metadata": {},
   "source": [
    "$$\\text{Salary for Bachelor's} = 68396 + 3042\\times\\text{(Age - 37)} - 9311\\times\\text{Gender} + 2561\\times\\text{YearsOfExperience} + 3\\times\\text{(Age - 37)}\\times\\text{YearsOfExperience} $$"
   ]
  },
  {
   "cell_type": "markdown",
   "id": "8ad41309",
   "metadata": {},
   "source": [
    "$$\\text{Salary for Master's} = 68396+ 19574 + 3042\\times\\text{(Age - 37)} - 9311\\times\\text{Gender} + 2561\\times\\text{YearsOfExperience} + 3\\times\\text{(Age - 37)}\\times\\text{YearsOfExperience} $$"
   ]
  },
  {
   "cell_type": "markdown",
   "id": "bc20aaff",
   "metadata": {},
   "source": [
    "$$\\text{Salary for PhD} = 68396 + 26339 + 3042\\times\\text{(Age - 37)} - 9311\\times\\text{Gender} + 2561\\times\\text{YearsOfExperience} + 3\\times\\text{(Age - 37)}\\times\\text{YearsOfExperience} $$"
   ]
  },
  {
   "cell_type": "markdown",
   "id": "0cf372c9",
   "metadata": {},
   "source": [
    "**Interpretasi tingkat pendidikan**"
   ]
  },
  {
   "cell_type": "markdown",
   "id": "17578953",
   "metadata": {},
   "source": [
    "\n",
    "Jika membandingkan dua orang yang memiliki usia, jenis kelamin, lama pengalaman kerja yang sama, gaji seseorang dengan tingkat pendidikan Master's diperkirakan lebih tinggi 19574 dollar daripada gaji seseorang dengan tingkat pendidikan Bachelor's."
   ]
  },
  {
   "cell_type": "markdown",
   "id": "86238efe",
   "metadata": {},
   "source": [
    "**Interpretasi usia**"
   ]
  },
  {
   "cell_type": "markdown",
   "id": "d4a65e83",
   "metadata": {},
   "source": [
    "Jika membandingkan dua orang yang memiliki jenis kelamin dan tingkat pendidikan yang sama, serta pengalaman kerja 0 tahun, seseorang yang usianya 1 tahun lebih tua dari 37 tahun diperkirakan memiliki gaji lebih tinggi 3042 dollar daripada seseorang berusia 37 tahun."
   ]
  },
  {
   "cell_type": "markdown",
   "id": "5cb5dbd4",
   "metadata": {},
   "source": [
    "**Interpretasi jenis kelamin**"
   ]
  },
  {
   "cell_type": "markdown",
   "id": "a781445c",
   "metadata": {},
   "source": [
    "Jika membandingkan dua orang yang memiliki usia, lama pengalaman kerja, dan tingkat pendidikan yang sama, perempuan diperkiraan memiliki gaji lebih sedikit 9311 dollar dibandingkan laki-laki."
   ]
  },
  {
   "cell_type": "markdown",
   "id": "c074b841",
   "metadata": {},
   "source": [
    "**Interpretasi lama pengalaman kerja**"
   ]
  },
  {
   "cell_type": "markdown",
   "id": "968489e4",
   "metadata": {},
   "source": [
    "Jika membandingkan dua orang berusia 37 tahun yang memiliki jenis kelamin dan tingkat pendidikan yang sama, seseorang dengan lama pengalaman kerja lebih lama 1 tahun diperkirakan memiliki gaji lebih tinggi 2561 dollar."
   ]
  },
  {
   "cell_type": "code",
   "execution_count": 56,
   "id": "bcd049af",
   "metadata": {},
   "outputs": [
    {
     "data": {
      "text/plain": [
       "Text(0.5, 1.0, 'Residuals vs. Predicted mpg')"
      ]
     },
     "execution_count": 56,
     "metadata": {},
     "output_type": "execute_result"
    },
    {
     "data": {
      "image/png": "[encoded data removed]",
      "text/plain": [
       "<Figure size 432x288 with 1 Axes>"
      ]
     },
     "metadata": {
      "needs_background": "light"
     },
     "output_type": "display_data"
    }
   ],
   "source": [
    "# Residual Plot and Explained Variance\n",
    "plt.scatter(results.fittedvalues, results.resid, marker=\".\", c = \"k\")\n",
    "\n",
    "# Plot the horizontal line in 0 as the fitted line\n",
    "plt.axhline([0])\n",
    "\n",
    "plt.xlabel(\"predicted mpg\")\n",
    "plt.ylabel(\"residual\")\n",
    "plt.title(f\"Residuals vs. Predicted mpg\")"
   ]
  },
  {
   "cell_type": "code",
   "execution_count": 58,
   "id": "65913623",
   "metadata": {},
   "outputs": [
    {
     "data": {
      "image/png": "[encoded data removed]",
      "text/plain": [
       "<Figure size 432x288 with 1 Axes>"
      ]
     },
     "metadata": {
      "needs_background": "light"
     },
     "output_type": "display_data"
    }
   ],
   "source": [
    "# Normality of Error Assumption\n",
    "\n",
    "plt.hist(results.resid, color='tab:blue', alpha=0.4)\n",
    "plt.xlabel(\"residual\")\n",
    "plt.ylabel(\"count\")\n",
    "\n",
    "plt.show()"
   ]
  }
 ],
 "metadata": {
  "kernelspec": {
   "display_name": "Python 3 (ipykernel)",
   "language": "python",
   "name": "python3"
  },
  "language_info": {
   "codemirror_mode": {
    "name": "ipython",
    "version": 3
   },
   "file_extension": ".py",
   "mimetype": "text/x-python",
   "name": "python",
   "nbconvert_exporter": "python",
   "pygments_lexer": "ipython3",
   "version": "3.9.12"
  }
 },
 "nbformat": 4,
 "nbformat_minor": 5
}
